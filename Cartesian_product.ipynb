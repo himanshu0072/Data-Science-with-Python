{
 "cells": [
  {
   "cell_type": "code",
   "execution_count": 2,
   "metadata": {},
   "outputs": [
    {
     "name": "stdout",
     "output_type": "stream",
     "text": [
      "[(1, 5), (1, 6), (2, 5), (2, 6), (3, 5), (3, 6), (4, 5), (4, 6), (4, 5), (4, 6), (6, 5), (6, 6), (7, 5), (7, 6), (8, 5), (8, 6), (9, 5), (9, 6)]\n",
      "<class 'itertools.product'>\n"
     ]
    }
   ],
   "source": [
    "from itertools import product\n",
    "a=[1,2,3,4,4,6,7,8,9]\n",
    "b=[5,6]\n",
    "c=product(a,b)  #it will give the cartesian product of the lists a and b\n",
    "print(list(c)) # \n",
    "print(type(c)) # give result as a iter tool "
   ]
  },
  {
   "cell_type": "code",
   "execution_count": 4,
   "metadata": {},
   "outputs": [
    {
     "name": "stdout",
     "output_type": "stream",
     "text": [
      "[(1, 1), (1, 2), (1, 3), (1, 4), (1, 4), (1, 6), (1, 7), (1, 8), (1, 9), (2, 1), (2, 2), (2, 3), (2, 4), (2, 4), (2, 6), (2, 7), (2, 8), (2, 9), (3, 1), (3, 2), (3, 3), (3, 4), (3, 4), (3, 6), (3, 7), (3, 8), (3, 9), (4, 1), (4, 2), (4, 3), (4, 4), (4, 4), (4, 6), (4, 7), (4, 8), (4, 9), (4, 1), (4, 2), (4, 3), (4, 4), (4, 4), (4, 6), (4, 7), (4, 8), (4, 9), (6, 1), (6, 2), (6, 3), (6, 4), (6, 4), (6, 6), (6, 7), (6, 8), (6, 9), (7, 1), (7, 2), (7, 3), (7, 4), (7, 4), (7, 6), (7, 7), (7, 8), (7, 9), (8, 1), (8, 2), (8, 3), (8, 4), (8, 4), (8, 6), (8, 7), (8, 8), (8, 9), (9, 1), (9, 2), (9, 3), (9, 4), (9, 4), (9, 6), (9, 7), (9, 8), (9, 9)]\n"
     ]
    }
   ],
   "source": [
    "d=product(a, repeat=2)\n",
    "print(list(d))"
   ]
  },
  {
   "cell_type": "code",
   "execution_count": 8,
   "metadata": {},
   "outputs": [
    {
     "name": "stdout",
     "output_type": "stream",
     "text": [
      "[(1, 9, 3), (1, 8, 3), (1, 7, 3), (1, 6, 3), (2, 9, 3), (2, 8, 3), (2, 7, 3), (2, 6, 3), (3, 9, 3), (3, 8, 3), (3, 7, 3), (3, 6, 3), (4, 9, 3), (4, 8, 3), (4, 7, 3), (4, 6, 3), (5, 9, 3), (5, 8, 3), (5, 7, 3), (5, 6, 3), (6, 9, 3), (6, 8, 3), (6, 7, 3), (6, 6, 3)]\n"
     ]
    }
   ],
   "source": [
    "print(list(product([1,2,3,4,5,6],[9,8,7,6],[3])))"
   ]
  },
  {
   "cell_type": "code",
   "execution_count": null,
   "metadata": {},
   "outputs": [],
   "source": []
  }
 ],
 "metadata": {
  "kernelspec": {
   "display_name": "Python 3",
   "language": "python",
   "name": "python3"
  },
  "language_info": {
   "codemirror_mode": {
    "name": "ipython",
    "version": 3
   },
   "file_extension": ".py",
   "mimetype": "text/x-python",
   "name": "python",
   "nbconvert_exporter": "python",
   "pygments_lexer": "ipython3",
   "version": "3.10.9"
  },
  "orig_nbformat": 4,
  "vscode": {
   "interpreter": {
    "hash": "ce7b65b2ffe474abddedfae3b21eedd4a27046cb83e502735c2561f782849825"
   }
  }
 },
 "nbformat": 4,
 "nbformat_minor": 2
}
