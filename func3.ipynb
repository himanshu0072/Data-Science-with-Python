{
 "cells": [
  {
   "attachments": {},
   "cell_type": "markdown",
   "metadata": {},
   "source": [
    "f(x)= x + 3\n",
    "g(x,y) = x**2 + y + 3 \n",
    "\n",
    "- lamda function\n",
    "- map\n",
    "- filter"
   ]
  },
  {
   "cell_type": "code",
   "execution_count": 9,
   "metadata": {},
   "outputs": [
    {
     "name": "stdout",
     "output_type": "stream",
     "text": [
      "6 8 9\n"
     ]
    }
   ],
   "source": [
    "f = lambda x : x + 3 \n",
    "print(f(3), f(5), f(6))"
   ]
  },
  {
   "cell_type": "code",
   "execution_count": 8,
   "metadata": {},
   "outputs": [
    {
     "name": "stdout",
     "output_type": "stream",
     "text": [
      "11 17\n"
     ]
    }
   ],
   "source": [
    "g= lambda x, y : x**2 + y + 3\n",
    "print(g(2,4), g(3,5))"
   ]
  },
  {
   "cell_type": "code",
   "execution_count": 14,
   "metadata": {},
   "outputs": [
    {
     "name": "stdout",
     "output_type": "stream",
     "text": [
      "[17, 28, 39, 1, 2, 2, 3, 4, 3, 3, 3, 4, 5, 5, 50, 61, 63, 0, 1]\n"
     ]
    }
   ],
   "source": [
    "x = [21,32,43,5,6,6,7,8,7,7,7,8,9,9,54,65,67,4,5 ]\n",
    "# for beginners\n",
    "y=[]\n",
    "for i in x:\n",
    "    y.append(i-4)\n",
    "print(y)\n"
   ]
  },
  {
   "cell_type": "code",
   "execution_count": 21,
   "metadata": {},
   "outputs": [
    {
     "name": "stdout",
     "output_type": "stream",
     "text": [
      "[16, 27, 38, 0, 1, 1, 2, 3, 2, 2, 2, 3, 4, 4, 49, 60, 62, -1, 0]\n",
      "(16, 27, 38, 0, 1, 1, 2, 3, 2, 2, 2, 3, 4, 4, 49, 60, 62, -1, 0)\n"
     ]
    }
   ],
   "source": [
    "print(list(map(lambda i: i-5, x))) # list\n",
    "print(tuple(map(lambda i: i-5, x))) #tuple"
   ]
  },
  {
   "cell_type": "code",
   "execution_count": 23,
   "metadata": {},
   "outputs": [
    {
     "name": "stdout",
     "output_type": "stream",
     "text": [
      "[25.942243542145693, 70.60453243241541, 65.5133574166368, 103.46496991735899]\n"
     ]
    }
   ],
   "source": [
    "p=[23, 56, 34, 87]\n",
    "b=[12, 43, 56, 56]\n",
    "h=list(map(lambda a,b:(a**2 + b**2)**0.5, p,b))\n",
    "print(h)"
   ]
  },
  {
   "attachments": {},
   "cell_type": "markdown",
   "metadata": {},
   "source": [
    "Create a list of squares from a list of number"
   ]
  },
  {
   "cell_type": "code",
   "execution_count": 25,
   "metadata": {},
   "outputs": [
    {
     "name": "stdout",
     "output_type": "stream",
     "text": [
      "[1, 4, 9, 16, 25]\n"
     ]
    }
   ],
   "source": [
    "n=[1,2,3,4,5]\n",
    "print(list(map(lambda c: c**2, n)))"
   ]
  },
  {
   "cell_type": "code",
   "execution_count": 28,
   "metadata": {},
   "outputs": [
    {
     "name": "stdout",
     "output_type": "stream",
     "text": [
      "[3, 4, 54, 5, 56, 6, 7, 7, 8, 8, 8, 9, 89, 9, 9, 9, 90]\n"
     ]
    }
   ],
   "source": [
    "a=[1,2,3,4,54,5,56,6,7,7,8,8,8,9,89,9,9,9,90]\n",
    "b=list(filter(lambda i: i>= 3, a)) # Filter will give actual value rather that true false\n",
    "print(b)"
   ]
  },
  {
   "cell_type": "code",
   "execution_count": null,
   "metadata": {},
   "outputs": [],
   "source": []
  }
 ],
 "metadata": {
  "kernelspec": {
   "display_name": "Python 3",
   "language": "python",
   "name": "python3"
  },
  "language_info": {
   "codemirror_mode": {
    "name": "ipython",
    "version": 3
   },
   "file_extension": ".py",
   "mimetype": "text/x-python",
   "name": "python",
   "nbconvert_exporter": "python",
   "pygments_lexer": "ipython3",
   "version": "3.10.9"
  },
  "orig_nbformat": 4,
  "vscode": {
   "interpreter": {
    "hash": "ce7b65b2ffe474abddedfae3b21eedd4a27046cb83e502735c2561f782849825"
   }
  }
 },
 "nbformat": 4,
 "nbformat_minor": 2
}
