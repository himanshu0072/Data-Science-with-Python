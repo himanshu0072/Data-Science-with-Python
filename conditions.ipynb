{
 "cells": [
  {
   "cell_type": "code",
   "execution_count": 3,
   "metadata": {},
   "outputs": [
    {
     "name": "stdout",
     "output_type": "stream",
     "text": [
      "Good Job\n"
     ]
    }
   ],
   "source": [
    "x=input(\"Enter the number to check :\")\n",
    "if x.isnumeric():\n",
    "    print(\"Good Job\")\n",
    "else:\n",
    "    print(\"Enter a valid Number\")\n",
    "    x=input(\"Enter the number to check :\")\n"
   ]
  },
  {
   "cell_type": "code",
   "execution_count": 5,
   "metadata": {},
   "outputs": [
    {
     "name": "stdout",
     "output_type": "stream",
     "text": [
      "You are not eligible for vote. please try after1\n"
     ]
    }
   ],
   "source": [
    "age=int(input(\"Enter your age:\"))\n",
    "if age >= 18:\n",
    "    print(\"You are eligible for vote\")\n",
    "else:\n",
    "    print(f\"You are not eligible for vote. please try after {18-age} year\") "
   ]
  },
  {
   "cell_type": "code",
   "execution_count": 7,
   "metadata": {},
   "outputs": [
    {
     "name": "stdout",
     "output_type": "stream",
     "text": [
      "x=35 kg mango and y=30 kg banana\n",
      "price of mango is Rs.1050\n"
     ]
    }
   ],
   "source": [
    "x=35\n",
    "y=30\n",
    "price=30\n",
    "print(f\"x={x} kg mango and y={y} kg banana\")\n",
    "print(f\"price of mango is Rs.{x*price}\")"
   ]
  },
  {
   "cell_type": "code",
   "execution_count": 10,
   "metadata": {},
   "outputs": [
    {
     "name": "stdout",
     "output_type": "stream",
     "text": [
      " x=45 is natural\n"
     ]
    }
   ],
   "source": [
    "x=int(input(\"Enter a Number :\"))\n",
    "if x>0:\n",
    "    print(f\" {x=} is natural\")\n",
    "if x%2 ==0:\n",
    "    print(f\" {x=} is even\")\n",
    "if x>50:\n",
    "    print(f\" {x=} greater than 0\")"
   ]
  },
  {
   "cell_type": "code",
   "execution_count": 11,
   "metadata": {},
   "outputs": [],
   "source": [
    "# #### wap to calculate `total salary on the basis of following rules\n",
    "# if designation is manager, basic salary is 50000\n",
    "# if desingation is developer, basic salary is 40000\n",
    "# -if designation is tester, basic salary is 30000\n",
    "# 10% of basic salary is given as bonus to manager -\n",
    "# -20% of basic salary is given as bonus to developer\n",
    "# 30% of basic salary is given as bonus to tester 20% hra is given on basic salary\n"
   ]
  },
  {
   "cell_type": "code",
   "execution_count": 12,
   "metadata": {},
   "outputs": [
    {
     "name": "stdout",
     "output_type": "stream",
     "text": [
      "65000.0\n"
     ]
    }
   ],
   "source": [
    "bs=50000\n",
    "bns=bs* .1\n",
    "hra=bs* .2\n",
    "print(bs+bns+hra)\n"
   ]
  },
  {
   "cell_type": "code",
   "execution_count": 13,
   "metadata": {},
   "outputs": [
    {
     "name": "stdout",
     "output_type": "stream",
     "text": [
      "Total salary Manager is :65000.0\n"
     ]
    }
   ],
   "source": [
    "salary=int(input(\"Enetr salary:\"))\n",
    "if salary<=30000:\n",
    "    bs=salary\n",
    "    bns=bs* .1\n",
    "    hra=bs* .2\n",
    "    print(f\"Total salary of tester is :{bs+bns+hra}\")\n",
    "if salary>=30000 and salary<=40000:\n",
    "    bs=salary\n",
    "    bns=bs* .1\n",
    "    hra=bs* .2\n",
    "    print(f\"Total salary developer is :{bs+bns+hra}\")\n",
    "if salary>=40000 and salary<=50000:\n",
    "    bs=salary\n",
    "    bns=bs* .1\n",
    "    hra=bs* .2\n",
    "    print(f\"Total salary Manager is :{bs+bns+hra}\")\n",
    "\n"
   ]
  },
  {
   "cell_type": "code",
   "execution_count": 1,
   "metadata": {},
   "outputs": [
    {
     "name": "stdout",
     "output_type": "stream",
     "text": [
      "Total salary manager is :6500.0\n"
     ]
    }
   ],
   "source": [
    "post=input(\"Enetr Your Post:\")\n",
    "if post=='tester' or post=='Tester' :\n",
    "    bs=30000\n",
    "    bns=bs* .1\n",
    "    hra=bs* .2\n",
    "    print(f\"Total salary of {post} is :{bs+bns+hra}\")\n",
    "if post==\"developer\" or post=='Developer':\n",
    "    bs=40000\n",
    "    bns=bs* .1\n",
    "    hra=bs* .2\n",
    "    print(f\"Total salary {post} is :{bs+bns+hra}\")\n",
    "if post==\"manager\" or post=='Manager':\n",
    "    bs=5000\n",
    "    bns=bs* .1\n",
    "    hra=bs* .2\n",
    "    print(f\"Total salary {post} is :{bs+bns+hra}\")\n",
    "else:\n",
    "    print(\"Enter Correct Post\")\n"
   ]
  },
  {
   "cell_type": "code",
   "execution_count": 9,
   "metadata": {},
   "outputs": [
    {
     "name": "stdout",
     "output_type": "stream",
     "text": [
      "500 is not a leap year.\n"
     ]
    }
   ],
   "source": [
    "#Leap year Calculator using function\n",
    "year=int(input(\"Enter a year to check it is leap year or not :\"))\n",
    "is_leap_year=year%4\n",
    "def leap_year():\n",
    "    if is_leap_year==0 and year!=100 and year!=200 and year!=300 and year!=500 and year!=600:\n",
    "        print(f\"{year} is a leap year.\")\n",
    "    else:\n",
    "        print(f\"{year} is not a leap year.\")\n",
    "\n",
    "leap_year()\n"
   ]
  },
  {
   "cell_type": "code",
   "execution_count": 3,
   "metadata": {},
   "outputs": [
    {
     "name": "stdout",
     "output_type": "stream",
     "text": [
      "banana is 50 RS. /Dozen\n"
     ]
    }
   ],
   "source": [
    "fruit=input(\"Enter the name of a fruit:\")\n",
    "match fruit:\n",
    "    case 'apple':\n",
    "        print(f\"{fruit} is 100 RS. / Kg\")\n",
    "    case 'graps':\n",
    "        print(f\"{fruit} is 90 RS. / Kg\")\n",
    "    case 'lemon':\n",
    "        print(f\"{fruit} is 20 RS. / 10 pcs.\")\n",
    "    case 'banana':\n",
    "        print(f\"{fruit} is 50 RS. / Dozen\")\n",
    "    case _:                                 #default case\n",
    "        print(f\"{fruit} is Not Available\")"
   ]
  },
  {
   "cell_type": "code",
   "execution_count": 5,
   "metadata": {},
   "outputs": [
    {
     "name": "stdout",
     "output_type": "stream",
     "text": [
      "c is greater\n"
     ]
    }
   ],
   "source": [
    "a = 230\n",
    "b = 41 \n",
    "c = 931\n",
    "# related conditions use if-elif-else ladder\n",
    "if a > b and a > c:\n",
    "    print('a is greater')\n",
    "elif b > a and b > c:\n",
    "    print('b is greater')\n",
    "else:\n",
    "    print('c is greater')"
   ]
  },
  {
   "cell_type": "code",
   "execution_count": 1,
   "metadata": {},
   "outputs": [
    {
     "name": "stdout",
     "output_type": "stream",
     "text": [
      "10 is not a prime number\n"
     ]
    }
   ],
   "source": [
    "#programm for prime number\n",
    "n=int(input(\"Enter a number :\"))\n",
    "\n",
    "if n == 1:\n",
    "    print(f\"{n} is not a prime number\")\n",
    "elif n > 1:\n",
    "   for i in range(2,n):\n",
    "       if (n % i) == 0:\n",
    "           print(n,\"is not a prime number\")\n",
    "           break\n",
    "   else:\n",
    "       print(f\"{n} is a prime number\")\n",
    "else:\n",
    "   print(\"Please Enter a valid Number\")"
   ]
  },
  {
   "cell_type": "code",
   "execution_count": 9,
   "metadata": {},
   "outputs": [
    {
     "name": "stdout",
     "output_type": "stream",
     "text": [
      "31 is prime.\n"
     ]
    }
   ],
   "source": [
    "#Another way for prime number \n",
    "num=int(input(\"Enter a number:\"))\n",
    "for i in range(2,num):\n",
    "     if num%i==0:\n",
    "          print(f\"{num} is non prime\")\n",
    "          break\n",
    "else:\n",
    "    print(f\"{num} is prime.\")"
   ]
  },
  {
   "cell_type": "code",
   "execution_count": 16,
   "metadata": {},
   "outputs": [
    {
     "name": "stdout",
     "output_type": "stream",
     "text": [
      "1 3 5 7 9 11 "
     ]
    }
   ],
   "source": [
    "for i in range(1,12,2):\n",
    "    print(i, end=' ')"
   ]
  },
  {
   "cell_type": "code",
   "execution_count": 26,
   "metadata": {},
   "outputs": [],
   "source": [
    "item=['Pen','Pencil','Book']\n",
    "prices=[10.00,5.00,199.00]\n",
    "quantity=[20,50,10]\n",
    "\n"
   ]
  },
  {
   "cell_type": "code",
   "execution_count": 20,
   "metadata": {},
   "outputs": [
    {
     "name": "stdout",
     "output_type": "stream",
     "text": [
      "('Pemn', 10.0, 20)\n",
      "('Pencil', 5.0, 50)\n",
      "('Book', 199.0, 10)\n"
     ]
    }
   ],
   "source": [
    "for i in zip(item,prices,quantity):\n",
    "    print(f'{i}')"
   ]
  },
  {
   "cell_type": "code",
   "execution_count": 27,
   "metadata": {},
   "outputs": [
    {
     "name": "stdout",
     "output_type": "stream",
     "text": [
      "['Pen', 'Pencil', 'Book']\n",
      "Pen         10.0    20\n",
      "Pencil       5.0    50\n",
      "Book       199.0    10\n"
     ]
    }
   ],
   "source": [
    "print(item)\n",
    "for i,p,q in zip(item,prices,quantity):\n",
    "    print(f'{i:10} {p:5} {q:5}')"
   ]
  },
  {
   "cell_type": "code",
   "execution_count": 28,
   "metadata": {},
   "outputs": [
    {
     "name": "stdout",
     "output_type": "stream",
     "text": [
      "7\n",
      "123456\n"
     ]
    }
   ],
   "source": [
    "#program to find the unit place\n",
    "n=1234567\n",
    "print(n%10) #for Unit place\n",
    "print(n//10) #for quotient"
   ]
  },
  {
   "cell_type": "code",
   "execution_count": 31,
   "metadata": {},
   "outputs": [
    {
     "name": "stdout",
     "output_type": "stream",
     "text": [
      "1256756342 2\n",
      "125675634 4\n",
      "12567563 8\n",
      "1256756 11\n",
      "125675 17\n",
      "12567 22\n",
      "1256 29\n",
      "125 35\n",
      "12 40\n",
      "1 42\n",
      "0 43\n"
     ]
    }
   ],
   "source": [
    "n=int(input(\"Enter a number:\"))\n",
    "total=0\n",
    "while n > 0:\n",
    "    total += n % 10  #add remainder in total\n",
    "    n= n//10        #make the quotient as number\n",
    "    print(n, total)"
   ]
  },
  {
   "cell_type": "code",
   "execution_count": 32,
   "metadata": {},
   "outputs": [
    {
     "name": "stdout",
     "output_type": "stream",
     "text": [
      "15\n"
     ]
    }
   ],
   "source": [
    "n=int(input(\"Enter a number:\"))\n",
    "total=0\n",
    "while n > 0:\n",
    "    total += n % 10  #add remainder in total\n",
    "    n= n//10        #make the quotient as number\n",
    "print(total)"
   ]
  },
  {
   "cell_type": "code",
   "execution_count": 9,
   "metadata": {},
   "outputs": [
    {
     "name": "stdout",
     "output_type": "stream",
     "text": [
      "Wrong Password Bewkoof 👊 retry left 2 times\n",
      "Wrong Password Bewkoof 👊 retry left 1 times\n",
      "Wrong Password Bewkoof 👊 retry left 0 times\n",
      "Please try after 1 hour\n"
     ]
    }
   ],
   "source": [
    "#Password checking system  for a phone\n",
    "retries=0\n",
    "while retries <3:\n",
    "    code=int(input(\"Enter Your Password :\"))\n",
    "    if code==1234:\n",
    "        print(\"You are welcome Master\")\n",
    "        break\n",
    "    else:\n",
    "        print(f\"Wrong Password Bewkoof 👊 retry left {2-retries} times\")\n",
    "        retries += 1\n",
    "else:\n",
    "    print(\"Please try after 1 hour\")"
   ]
  },
  {
   "cell_type": "code",
   "execution_count": null,
   "metadata": {},
   "outputs": [],
   "source": []
  }
 ],
 "metadata": {
  "kernelspec": {
   "display_name": "Python 3",
   "language": "python",
   "name": "python3"
  },
  "language_info": {
   "codemirror_mode": {
    "name": "ipython",
    "version": 3
   },
   "file_extension": ".py",
   "mimetype": "text/x-python",
   "name": "python",
   "nbconvert_exporter": "python",
   "pygments_lexer": "ipython3",
   "version": "3.10.9"
  },
  "orig_nbformat": 4,
  "vscode": {
   "interpreter": {
    "hash": "ce7b65b2ffe474abddedfae3b21eedd4a27046cb83e502735c2561f782849825"
   }
  }
 },
 "nbformat": 4,
 "nbformat_minor": 2
}
