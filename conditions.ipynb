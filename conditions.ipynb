{
 "cells": [
  {
   "cell_type": "code",
   "execution_count": 3,
   "metadata": {},
   "outputs": [
    {
     "name": "stdout",
     "output_type": "stream",
     "text": [
      "Good Job\n"
     ]
    }
   ],
   "source": [
    "x=input(\"Enter the number to check :\")\n",
    "if x.isnumeric():\n",
    "    print(\"Good Job\")\n",
    "else:\n",
    "    print(\"Enter a valid Number\")\n",
    "    x=input(\"Enter the number to check :\")\n"
   ]
  },
  {
   "cell_type": "code",
   "execution_count": 5,
   "metadata": {},
   "outputs": [
    {
     "name": "stdout",
     "output_type": "stream",
     "text": [
      "You are not eligible for vote. please try after1\n"
     ]
    }
   ],
   "source": [
    "age=int(input(\"Enter your age:\"))\n",
    "if age >= 18:\n",
    "    print(\"You are eligible for vote\")\n",
    "else:\n",
    "    print(f\"You are not eligible for vote. please try after {18-age} year\") "
   ]
  },
  {
   "cell_type": "code",
   "execution_count": 7,
   "metadata": {},
   "outputs": [
    {
     "name": "stdout",
     "output_type": "stream",
     "text": [
      "x=35 kg mango and y=30 kg banana\n",
      "price of mango is Rs.1050\n"
     ]
    }
   ],
   "source": [
    "x=35\n",
    "y=30\n",
    "price=30\n",
    "print(f\"x={x} kg mango and y={y} kg banana\")\n",
    "print(f\"price of mango is Rs.{x*price}\")"
   ]
  },
  {
   "cell_type": "code",
   "execution_count": 10,
   "metadata": {},
   "outputs": [
    {
     "name": "stdout",
     "output_type": "stream",
     "text": [
      " x=45 is natural\n"
     ]
    }
   ],
   "source": [
    "x=int(input(\"Enter a Number :\"))\n",
    "if x>0:\n",
    "    print(f\" {x=} is natural\")\n",
    "if x%2 ==0:\n",
    "    print(f\" {x=} is even\")\n",
    "if x>50:\n",
    "    print(f\" {x=} greater than 0\")"
   ]
  },
  {
   "cell_type": "code",
   "execution_count": 11,
   "metadata": {},
   "outputs": [],
   "source": [
    "# #### wap to calculate `total salary on the basis of following rules\n",
    "# if designation is manager, basic salary is 50000\n",
    "# if desingation is developer, basic salary is 40000\n",
    "# -if designation is tester, basic salary is 30000\n",
    "# 10% of basic salary is given as bonus to manager -\n",
    "# -20% of basic salary is given as bonus to developer\n",
    "# 30% of basic salary is given as bonus to tester 20% hra is given on basic salary\n"
   ]
  },
  {
   "cell_type": "code",
   "execution_count": 12,
   "metadata": {},
   "outputs": [
    {
     "name": "stdout",
     "output_type": "stream",
     "text": [
      "65000.0\n"
     ]
    }
   ],
   "source": [
    "bs=50000\n",
    "bns=bs* .1\n",
    "hra=bs* .2\n",
    "print(bs+bns+hra)\n"
   ]
  },
  {
   "cell_type": "code",
   "execution_count": 13,
   "metadata": {},
   "outputs": [
    {
     "name": "stdout",
     "output_type": "stream",
     "text": [
      "Total salary Manager is :65000.0\n"
     ]
    }
   ],
   "source": [
    "salary=int(input(\"Enetr salary:\"))\n",
    "if salary<=30000:\n",
    "    bs=salary\n",
    "    bns=bs* .1\n",
    "    hra=bs* .2\n",
    "    print(f\"Total salary of tester is :{bs+bns+hra}\")\n",
    "if salary>=30000 and salary<=40000:\n",
    "    bs=salary\n",
    "    bns=bs* .1\n",
    "    hra=bs* .2\n",
    "    print(f\"Total salary developer is :{bs+bns+hra}\")\n",
    "if salary>=40000 and salary<=50000:\n",
    "    bs=salary\n",
    "    bns=bs* .1\n",
    "    hra=bs* .2\n",
    "    print(f\"Total salary Manager is :{bs+bns+hra}\")\n",
    "\n"
   ]
  },
  {
   "cell_type": "code",
   "execution_count": 21,
   "metadata": {},
   "outputs": [
    {
     "name": "stdout",
     "output_type": "stream",
     "text": [
      "Total salary manager is :6500.0\n"
     ]
    }
   ],
   "source": [
    "post=input(\"Enetr Your Post:\")\n",
    "if post=='tester':\n",
    "    bs=30000\n",
    "    bns=bs* .1\n",
    "    hra=bs* .2\n",
    "    print(f\"Total salary of {post} is :{bs+bns+hra}\")\n",
    "if post==\"developer\" and salary<=40000:\n",
    "    bs=40000\n",
    "    bns=bs* .1\n",
    "    hra=bs* .2\n",
    "    print(f\"Total salary {post} is :{bs+bns+hra}\")\n",
    "if post==\"manager\" and salary<=50000:\n",
    "    bs=5000\n",
    "    bns=bs* .1\n",
    "    hra=bs* .2\n",
    "    print(f\"Total salary {post} is :{bs+bns+hra}\")\n",
    "else:\n",
    "    print(\"Enter Correct Post\")\n"
   ]
  },
  {
   "cell_type": "code",
   "execution_count": null,
   "metadata": {},
   "outputs": [],
   "source": []
  }
 ],
 "metadata": {
  "kernelspec": {
   "display_name": "Python 3",
   "language": "python",
   "name": "python3"
  },
  "language_info": {
   "codemirror_mode": {
    "name": "ipython",
    "version": 3
   },
   "file_extension": ".py",
   "mimetype": "text/x-python",
   "name": "python",
   "nbconvert_exporter": "python",
   "pygments_lexer": "ipython3",
   "version": "3.10.9"
  },
  "orig_nbformat": 4,
  "vscode": {
   "interpreter": {
    "hash": "ce7b65b2ffe474abddedfae3b21eedd4a27046cb83e502735c2561f782849825"
   }
  }
 },
 "nbformat": 4,
 "nbformat_minor": 2
}
