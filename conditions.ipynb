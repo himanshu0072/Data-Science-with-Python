{
 "cells": [
  {
   "cell_type": "code",
   "execution_count": 3,
   "metadata": {},
   "outputs": [
    {
     "name": "stdout",
     "output_type": "stream",
     "text": [
      "Good Job\n"
     ]
    }
   ],
   "source": [
    "x=input(\"Enter the number to check :\")\n",
    "if x.isnumeric():\n",
    "    print(\"Good Job\")\n",
    "else:\n",
    "    print(\"Enter a valid Number\")\n",
    "    x=input(\"Enter the number to check :\")\n"
   ]
  },
  {
   "cell_type": "code",
   "execution_count": 5,
   "metadata": {},
   "outputs": [
    {
     "name": "stdout",
     "output_type": "stream",
     "text": [
      "You are not eligible for vote. please try after1\n"
     ]
    }
   ],
   "source": [
    "age=int(input(\"Enter your age:\"))\n",
    "if age >= 18:\n",
    "    print(\"You are eligible for vote\")\n",
    "else:\n",
    "    print(f\"You are not eligible for vote. please try after {18-age} year\") "
   ]
  },
  {
   "cell_type": "code",
   "execution_count": 7,
   "metadata": {},
   "outputs": [
    {
     "name": "stdout",
     "output_type": "stream",
     "text": [
      "x=35 kg mango and y=30 kg banana\n",
      "price of mango is Rs.1050\n"
     ]
    }
   ],
   "source": [
    "x=35\n",
    "y=30\n",
    "price=30\n",
    "print(f\"x={x} kg mango and y={y} kg banana\")\n",
    "print(f\"price of mango is Rs.{x*price}\")"
   ]
  },
  {
   "cell_type": "code",
   "execution_count": 10,
   "metadata": {},
   "outputs": [
    {
     "name": "stdout",
     "output_type": "stream",
     "text": [
      " x=45 is natural\n"
     ]
    }
   ],
   "source": [
    "x=int(input(\"Enter a Number :\"))\n",
    "if x>0:\n",
    "    print(f\" {x=} is natural\")\n",
    "if x%2 ==0:\n",
    "    print(f\" {x=} is even\")\n",
    "if x>50:\n",
    "    print(f\" {x=} greater than 0\")"
   ]
  },
  {
   "cell_type": "code",
   "execution_count": 11,
   "metadata": {},
   "outputs": [],
   "source": [
    "# #### wap to calculate `total salary on the basis of following rules\n",
    "# if designation is manager, basic salary is 50000\n",
    "# if desingation is developer, basic salary is 40000\n",
    "# -if designation is tester, basic salary is 30000\n",
    "# 10% of basic salary is given as bonus to manager -\n",
    "# -20% of basic salary is given as bonus to developer\n",
    "# 30% of basic salary is given as bonus to tester 20% hra is given on basic salary\n"
   ]
  },
  {
   "cell_type": "code",
   "execution_count": 12,
   "metadata": {},
   "outputs": [
    {
     "name": "stdout",
     "output_type": "stream",
     "text": [
      "65000.0\n"
     ]
    }
   ],
   "source": [
    "bs=50000\n",
    "bns=bs* .1\n",
    "hra=bs* .2\n",
    "print(bs+bns+hra)\n"
   ]
  },
  {
   "cell_type": "code",
   "execution_count": 13,
   "metadata": {},
   "outputs": [
    {
     "name": "stdout",
     "output_type": "stream",
     "text": [
      "Total salary Manager is :65000.0\n"
     ]
    }
   ],
   "source": [
    "salary=int(input(\"Enetr salary:\"))\n",
    "if salary<=30000:\n",
    "    bs=salary\n",
    "    bns=bs* .1\n",
    "    hra=bs* .2\n",
    "    print(f\"Total salary of tester is :{bs+bns+hra}\")\n",
    "if salary>=30000 and salary<=40000:\n",
    "    bs=salary\n",
    "    bns=bs* .1\n",
    "    hra=bs* .2\n",
    "    print(f\"Total salary developer is :{bs+bns+hra}\")\n",
    "if salary>=40000 and salary<=50000:\n",
    "    bs=salary\n",
    "    bns=bs* .1\n",
    "    hra=bs* .2\n",
    "    print(f\"Total salary Manager is :{bs+bns+hra}\")\n",
    "\n"
   ]
  },
  {
   "cell_type": "code",
   "execution_count": 1,
   "metadata": {},
   "outputs": [
    {
     "name": "stdout",
     "output_type": "stream",
     "text": [
      "Total salary manager is :6500.0\n"
     ]
    }
   ],
   "source": [
    "post=input(\"Enetr Your Post:\")\n",
    "if post=='tester' or post=='Tester' :\n",
    "    bs=30000\n",
    "    bns=bs* .1\n",
    "    hra=bs* .2\n",
    "    print(f\"Total salary of {post} is :{bs+bns+hra}\")\n",
    "if post==\"developer\" or post=='Developer':\n",
    "    bs=40000\n",
    "    bns=bs* .1\n",
    "    hra=bs* .2\n",
    "    print(f\"Total salary {post} is :{bs+bns+hra}\")\n",
    "if post==\"manager\" or post=='Manager':\n",
    "    bs=5000\n",
    "    bns=bs* .1\n",
    "    hra=bs* .2\n",
    "    print(f\"Total salary {post} is :{bs+bns+hra}\")\n",
    "else:\n",
    "    print(\"Enter Correct Post\")\n"
   ]
  },
  {
   "cell_type": "code",
   "execution_count": 9,
   "metadata": {},
   "outputs": [
    {
     "name": "stdout",
     "output_type": "stream",
     "text": [
      "500 is not a leap year.\n"
     ]
    }
   ],
   "source": [
    "#Leap year Calculator using function\n",
    "year=int(input(\"Enter a year to check it is leap year or not :\"))\n",
    "is_leap_year=year%4\n",
    "def leap_year():\n",
    "    if is_leap_year==0 and year!=100 and year!=200 and year!=300 and year!=500 and year!=600:\n",
    "        print(f\"{year} is a leap year.\")\n",
    "    else:\n",
    "        print(f\"{year} is not a leap year.\")\n",
    "\n",
    "leap_year()\n"
   ]
  },
  {
   "cell_type": "code",
   "execution_count": 3,
   "metadata": {},
   "outputs": [
    {
     "name": "stdout",
     "output_type": "stream",
     "text": [
      "banana is 50 RS. /Dozen\n"
     ]
    }
   ],
   "source": [
    "fruit=input(\"Enter the name of a fruit:\")\n",
    "match fruit:\n",
    "    case 'apple':\n",
    "        print(f\"{fruit} is 100 RS. / Kg\")\n",
    "    case 'graps':\n",
    "        print(f\"{fruit} is 90 RS. / Kg\")\n",
    "    case 'lemon':\n",
    "        print(f\"{fruit} is 20 RS. / 10 pcs.\")\n",
    "    case 'banana':\n",
    "        print(f\"{fruit} is 50 RS. / Dozen\")\n",
    "    case _:                                 #default case\n",
    "        print(f\"{fruit} is Not Available\")"
   ]
  },
  {
   "cell_type": "code",
   "execution_count": 5,
   "metadata": {},
   "outputs": [
    {
     "name": "stdout",
     "output_type": "stream",
     "text": [
      "c is greater\n"
     ]
    }
   ],
   "source": [
    "a = 230\n",
    "b = 41 \n",
    "c = 931\n",
    "# related conditions use if-elif-else ladder\n",
    "if a > b and a > c:\n",
    "    print('a is greater')\n",
    "elif b > a and b > c:\n",
    "    print('b is greater')\n",
    "else:\n",
    "    print('c is greater')"
   ]
  },
  {
   "cell_type": "code",
   "execution_count": null,
   "metadata": {},
   "outputs": [],
   "source": []
  }
 ],
 "metadata": {
  "kernelspec": {
   "display_name": "Python 3",
   "language": "python",
   "name": "python3"
  },
  "language_info": {
   "codemirror_mode": {
    "name": "ipython",
    "version": 3
   },
   "file_extension": ".py",
   "mimetype": "text/x-python",
   "name": "python",
   "nbconvert_exporter": "python",
   "pygments_lexer": "ipython3",
   "version": "3.10.9"
  },
  "orig_nbformat": 4,
  "vscode": {
   "interpreter": {
    "hash": "ce7b65b2ffe474abddedfae3b21eedd4a27046cb83e502735c2561f782849825"
   }
  }
 },
 "nbformat": 4,
 "nbformat_minor": 2
}
