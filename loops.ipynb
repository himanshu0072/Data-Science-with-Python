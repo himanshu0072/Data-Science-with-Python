{
 "cells": [
  {
   "cell_type": "code",
   "execution_count": 5,
   "metadata": {},
   "outputs": [
    {
     "name": "stdout",
     "output_type": "stream",
     "text": [
      "total length of apps=10\n"
     ]
    }
   ],
   "source": [
    "apps=['act fibernet','airtel','amazon','alexa','camera','galery','contacts','instagram','paytm','google pay']\n",
    "\n",
    "print(f\"total length of apps={len(apps)}\")"
   ]
  },
  {
   "cell_type": "code",
   "execution_count": 17,
   "metadata": {},
   "outputs": [
    {
     "name": "stdout",
     "output_type": "stream",
     "text": [
      "12 13 14 15 16 17 "
     ]
    }
   ],
   "source": [
    "x = [12,13,14,15,16,17]\n",
    "for i in x:\n",
    "    print(i, end=' ')"
   ]
  },
  {
   "cell_type": "code",
   "execution_count": 7,
   "metadata": {},
   "outputs": [
    {
     "name": "stdout",
     "output_type": "stream",
     "text": [
      "act fibernet\n",
      "airtel\n",
      "amazon\n",
      "alexa\n",
      "camera\n",
      "galery\n",
      "contacts\n",
      "instagram\n",
      "paytm\n",
      "google pay\n"
     ]
    }
   ],
   "source": [
    "for app in apps:\n",
    "    print(app)\n"
   ]
  },
  {
   "cell_type": "code",
   "execution_count": 13,
   "metadata": {},
   "outputs": [
    {
     "name": "stdout",
     "output_type": "stream",
     "text": [
      "act fibernet         | 12\n",
      "airtel               | 6\n",
      "amazon               | 6\n",
      "alexa                | 5\n",
      "camera               | 6\n",
      "galery               | 6\n",
      "contacts             | 8\n",
      "instagram            | 9\n",
      "paytm                | 5\n",
      "google pay           | 10\n"
     ]
    }
   ],
   "source": [
    "for app in apps:\n",
    "    print(f'{app:20} | {len(app)}')"
   ]
  },
  {
   "cell_type": "code",
   "execution_count": 21,
   "metadata": {},
   "outputs": [
    {
     "name": "stdout",
     "output_type": "stream",
     "text": [
      "act fibernet\n",
      "amazon\n",
      "contacts\n",
      "instagram\n"
     ]
    }
   ],
   "source": [
    "for app in apps:\n",
    "    if 'n' in app:\n",
    "        print(app)"
   ]
  },
  {
   "cell_type": "code",
   "execution_count": 22,
   "metadata": {},
   "outputs": [
    {
     "name": "stdout",
     "output_type": "stream",
     "text": [
      "act fibernet\n",
      "amazon\n",
      "contacts\n",
      "instagram\n"
     ]
    }
   ],
   "source": [
    "for app in apps:\n",
    "    if 'n' in app and 'a' in app:\n",
    "        print(app)"
   ]
  },
  {
   "cell_type": "code",
   "execution_count": 23,
   "metadata": {},
   "outputs": [
    {
     "name": "stdout",
     "output_type": "stream",
     "text": [
      "act fibernet\n",
      "airtel\n",
      "amazon\n",
      "alexa\n"
     ]
    }
   ],
   "source": [
    "for app in apps:\n",
    "    if app.startswith('a'):\n",
    "        print(app)"
   ]
  },
  {
   "cell_type": "code",
   "execution_count": 24,
   "metadata": {},
   "outputs": [
    {
     "name": "stdout",
     "output_type": "stream",
     "text": [
      "amazon\n"
     ]
    }
   ],
   "source": [
    "for app in apps:\n",
    "    if app.endswith('n'):\n",
    "        print(app)"
   ]
  },
  {
   "cell_type": "code",
   "execution_count": 25,
   "metadata": {},
   "outputs": [
    {
     "name": "stdout",
     "output_type": "stream",
     "text": [
      "12\n",
      "23\n",
      "34\n",
      "45\n",
      "56\n"
     ]
    }
   ],
   "source": [
    "data=[12,0,23,0,34,0,45,0,56,0,0,0,0]\n",
    "for i in data:\n",
    "    if i==0:\n",
    "        continue\n",
    "    print(i)"
   ]
  },
  {
   "cell_type": "code",
   "execution_count": 26,
   "metadata": {},
   "outputs": [
    {
     "name": "stdout",
     "output_type": "stream",
     "text": [
      "12\n"
     ]
    }
   ],
   "source": [
    "data=[12,0,23,0,34,0,45,0,56,0,0,0,0]\n",
    "for i in data:\n",
    "    if i==0:\n",
    "        break\n",
    "    print(i)"
   ]
  },
  {
   "cell_type": "code",
   "execution_count": 29,
   "metadata": {},
   "outputs": [
    {
     "name": "stdout",
     "output_type": "stream",
     "text": [
      "(0, 'act fibernet')\n",
      "(1, 'airtel')\n",
      "(2, 'amazon')\n",
      "(3, 'alexa')\n",
      "(4, 'camera')\n",
      "(5, 'galery')\n",
      "(6, 'contacts')\n",
      "(7, 'instagram')\n",
      "(8, 'paytm')\n",
      "(9, 'google pay')\n"
     ]
    }
   ],
   "source": [
    "for app in enumerate(apps):\n",
    "    print(app)"
   ]
  },
  {
   "cell_type": "code",
   "execution_count": 30,
   "metadata": {},
   "outputs": [
    {
     "name": "stdout",
     "output_type": "stream",
     "text": [
      "0 act fibernet\n",
      "1 airtel\n",
      "2 amazon\n",
      "3 alexa\n",
      "4 camera\n",
      "5 galery\n",
      "6 contacts\n",
      "7 instagram\n",
      "8 paytm\n",
      "9 google pay\n"
     ]
    }
   ],
   "source": [
    "for i,app in enumerate(apps):\n",
    "    print(i,app)"
   ]
  },
  {
   "cell_type": "code",
   "execution_count": 31,
   "metadata": {},
   "outputs": [
    {
     "name": "stdout",
     "output_type": "stream",
     "text": [
      "0 act fibernet\n",
      "1 airtel\n",
      "2 amazon\n",
      "3 alexa\n",
      "4 camera\n",
      "5 galery\n",
      "6 contacts\n",
      "7 instagram\n",
      "8 paytm\n",
      "9 google pay\n"
     ]
    }
   ],
   "source": [
    "for i,app in enumerate(apps):\n",
    "    if i>10:\n",
    "        break\n",
    "    print(i,app)"
   ]
  },
  {
   "cell_type": "code",
   "execution_count": null,
   "metadata": {},
   "outputs": [],
   "source": []
  }
 ],
 "metadata": {
  "kernelspec": {
   "display_name": "Python 3",
   "language": "python",
   "name": "python3"
  },
  "language_info": {
   "codemirror_mode": {
    "name": "ipython",
    "version": 3
   },
   "file_extension": ".py",
   "mimetype": "text/x-python",
   "name": "python",
   "nbconvert_exporter": "python",
   "pygments_lexer": "ipython3",
   "version": "3.10.9"
  },
  "orig_nbformat": 4,
  "vscode": {
   "interpreter": {
    "hash": "ce7b65b2ffe474abddedfae3b21eedd4a27046cb83e502735c2561f782849825"
   }
  }
 },
 "nbformat": 4,
 "nbformat_minor": 2
}
