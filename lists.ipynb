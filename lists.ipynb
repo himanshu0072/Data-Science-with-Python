{
 "cells": [
  {
   "cell_type": "code",
   "execution_count": 4,
   "metadata": {},
   "outputs": [],
   "source": [
    "list=[] # empty list\n",
    "list1=[0] #single element list"
   ]
  },
  {
   "cell_type": "code",
   "execution_count": 5,
   "metadata": {},
   "outputs": [
    {
     "name": "stdout",
     "output_type": "stream",
     "text": [
      "[] 2404034584320 <class 'list'>\n"
     ]
    }
   ],
   "source": [
    "print(list,id(list),type(list))"
   ]
  },
  {
   "cell_type": "code",
   "execution_count": 6,
   "metadata": {},
   "outputs": [
    {
     "name": "stdout",
     "output_type": "stream",
     "text": [
      "[1]\n"
     ]
    }
   ],
   "source": [
    "list.append(1) # adding item in list\n",
    "print(list)"
   ]
  },
  {
   "cell_type": "code",
   "execution_count": 7,
   "metadata": {},
   "outputs": [
    {
     "data": {
      "text/plain": [
       "1"
      ]
     },
     "execution_count": 7,
     "metadata": {},
     "output_type": "execute_result"
    }
   ],
   "source": [
    "list.pop(0) # remove the element of index 0"
   ]
  },
  {
   "cell_type": "code",
   "execution_count": 8,
   "metadata": {},
   "outputs": [
    {
     "name": "stdout",
     "output_type": "stream",
     "text": [
      "[]\n"
     ]
    }
   ],
   "source": [
    "print(list)"
   ]
  },
  {
   "cell_type": "code",
   "execution_count": 9,
   "metadata": {},
   "outputs": [],
   "source": [
    "list.append(1)\n",
    "list.append(2)\n",
    "list.append(3)\n",
    "list.append(4)\n",
    "list.append(5)\n",
    "list.append(6)\n",
    "list.append(7)\n",
    "list.append(8)\n",
    "list.append(9)\n",
    "list.append(9)"
   ]
  },
  {
   "cell_type": "code",
   "execution_count": 10,
   "metadata": {},
   "outputs": [
    {
     "name": "stdout",
     "output_type": "stream",
     "text": [
      "[1, 2, 3, 4, 5, 6, 7, 8, 9, 9]\n"
     ]
    }
   ],
   "source": [
    "print(list)"
   ]
  },
  {
   "cell_type": "code",
   "execution_count": 11,
   "metadata": {},
   "outputs": [],
   "source": [
    "list.remove(9) #remove only one 9 from the list"
   ]
  },
  {
   "cell_type": "code",
   "execution_count": 12,
   "metadata": {},
   "outputs": [
    {
     "name": "stdout",
     "output_type": "stream",
     "text": [
      "[1, 2, 3, 4, 5, 6, 7, 8, 9]\n"
     ]
    }
   ],
   "source": [
    "print(list)"
   ]
  },
  {
   "cell_type": "code",
   "execution_count": 13,
   "metadata": {},
   "outputs": [
    {
     "name": "stdout",
     "output_type": "stream",
     "text": [
      "['4', '5', '7', '8', '5', '5', '5']\n"
     ]
    }
   ],
   "source": [
    "n=input(\"Enter the list item seperated with only one space:\")\n",
    "list2=n.split()\n",
    "print(list2)\n",
    "\n"
   ]
  },
  {
   "cell_type": "code",
   "execution_count": 14,
   "metadata": {},
   "outputs": [
    {
     "name": "stdout",
     "output_type": "stream",
     "text": [
      "7\n"
     ]
    }
   ],
   "source": [
    "size=len(list2)\n",
    "print(size)"
   ]
  },
  {
   "cell_type": "code",
   "execution_count": 15,
   "metadata": {},
   "outputs": [
    {
     "name": "stdout",
     "output_type": "stream",
     "text": [
      "0\n",
      "1\n",
      "2\n",
      "3\n",
      "4\n",
      "5\n",
      "6\n"
     ]
    }
   ],
   "source": [
    "for i in range(size):\n",
    "    print(i)\n"
   ]
  },
  {
   "cell_type": "code",
   "execution_count": 16,
   "metadata": {},
   "outputs": [
    {
     "name": "stdout",
     "output_type": "stream",
     "text": [
      "['4', '5', '7', '8', '5', '5', '5']\n"
     ]
    }
   ],
   "source": [
    "print(list2)"
   ]
  },
  {
   "cell_type": "code",
   "execution_count": 17,
   "metadata": {},
   "outputs": [
    {
     "name": "stdout",
     "output_type": "stream",
     "text": [
      "5\n",
      "5\n",
      "5\n",
      "8\n",
      "7\n",
      "5\n",
      "4\n"
     ]
    }
   ],
   "source": [
    "while list2:\n",
    "    print(list2.pop())\n",
    "\n",
    "# for item in list2:\n",
    "#     print(item)\n",
    "# list2[:] = []"
   ]
  },
  {
   "cell_type": "code",
   "execution_count": 18,
   "metadata": {},
   "outputs": [
    {
     "name": "stdout",
     "output_type": "stream",
     "text": [
      "[]\n"
     ]
    }
   ],
   "source": [
    "print(list2)"
   ]
  },
  {
   "attachments": {},
   "cell_type": "markdown",
   "metadata": {},
   "source": [
    "proble solving questions\n"
   ]
  },
  {
   "cell_type": "code",
   "execution_count": 19,
   "metadata": {},
   "outputs": [
    {
     "name": "stdout",
     "output_type": "stream",
     "text": [
      "jan feb mar\n"
     ]
    }
   ],
   "source": [
    "def creating_gen(index):  \n",
    "    months = ['jan','feb','mar','apr','may','jun','jul','aug','sep','oct','nov','dec']  \n",
    "    yield months[index]  \n",
    "    yield months[index+1]  \n",
    "    yield months[index+2]  \n",
    "next_month = creating_gen(0)  \n",
    "print(next(next_month), next(next_month), next(next_month)) "
   ]
  },
  {
   "attachments": {},
   "cell_type": "markdown",
   "metadata": {},
   "source": [
    "Changing a list into a tuple"
   ]
  },
  {
   "cell_type": "code",
   "execution_count": 20,
   "metadata": {},
   "outputs": [
    {
     "name": "stdout",
     "output_type": "stream",
     "text": [
      "('jan', 'feb', 'mar', 'apr', 'may', 'jun', 'jul', 'aug', 'sep', 'oct', 'nov', 'dec')\n",
      "<class 'tuple'>\n"
     ]
    }
   ],
   "source": [
    "month = ['jan','feb','mar','apr','may','jun','jul','aug','sep','oct','nov','dec']  \n",
    "m_to_list = tuple(month)  # this will chage a list into a tuple\n",
    "print(m_to_list)  \n",
    "print(type(m_to_list))  \n"
   ]
  },
  {
   "attachments": {},
   "cell_type": "markdown",
   "metadata": {},
   "source": [
    "# what is numpy array\n",
    "it is more versatile than the list"
   ]
  },
  {
   "cell_type": "code",
   "execution_count": 21,
   "metadata": {},
   "outputs": [],
   "source": [
    "# creating an empty array in python"
   ]
  },
  {
   "cell_type": "code",
   "execution_count": 22,
   "metadata": {},
   "outputs": [
    {
     "name": "stdout",
     "output_type": "stream",
     "text": [
      "[]\n",
      "[[0.00000000e+000 0.00000000e+000 0.00000000e+000]\n",
      " [0.00000000e+000 0.00000000e+000 7.70742408e-321]\n",
      " [7.56592337e-307 9.34588060e-307 3.62651150e-317]]\n"
     ]
    }
   ],
   "source": [
    "import numpy  \n",
    "#method 1  \n",
    "array_1 = numpy.array([])  \n",
    "print(array_1)  \n",
    "#method 2  \n",
    "array_2 = numpy.empty(shape=(3,3))  \n",
    "print(array_2)  "
   ]
  },
  {
   "cell_type": "code",
   "execution_count": 23,
   "metadata": {},
   "outputs": [
    {
     "name": "stdout",
     "output_type": "stream",
     "text": [
      "3\n",
      "6\n",
      "7\n"
     ]
    }
   ],
   "source": [
    "\n",
    "a = [4, 6, 8, 3, 1, 7]  \n",
    "print(a[-3])  \n",
    "print(a[-5])  \n",
    "print(a[-1])  "
   ]
  },
  {
   "cell_type": "code",
   "execution_count": 24,
   "metadata": {},
   "outputs": [],
   "source": [
    "x=[] #blank list\n",
    "x1=[1,2,3] # list with 3 element\n",
    "x2=[4,5,'Apple','Orange'] # mixed element\n",
    "x3=['Aman','Naman'] # string element"
   ]
  },
  {
   "cell_type": "code",
   "execution_count": 25,
   "metadata": {},
   "outputs": [
    {
     "name": "stdout",
     "output_type": "stream",
     "text": [
      "[] [1, 2, 3] [4, 5, 'Apple', 'Orange'] ['Aman', 'Naman']\n"
     ]
    }
   ],
   "source": [
    "print(x, x1, x2, x3)"
   ]
  },
  {
   "cell_type": "code",
   "execution_count": 26,
   "metadata": {},
   "outputs": [
    {
     "data": {
      "text/plain": [
       "[1, 2, 3, 4, 5, 'Apple', 'Orange']"
      ]
     },
     "execution_count": 26,
     "metadata": {},
     "output_type": "execute_result"
    }
   ],
   "source": [
    "x1 + x2 # adding two list "
   ]
  },
  {
   "cell_type": "code",
   "execution_count": 27,
   "metadata": {},
   "outputs": [
    {
     "name": "stdout",
     "output_type": "stream",
     "text": [
      "[1, 2, 3, 1, 2, 3, 1, 2, 3, 1, 2, 3, 1, 2, 3]\n"
     ]
    }
   ],
   "source": [
    "x5 = x1*5\n",
    "print(x5)"
   ]
  },
  {
   "cell_type": "code",
   "execution_count": 28,
   "metadata": {},
   "outputs": [],
   "source": [
    "good_movies=['Pathan', '3 idiots', 'Bahubali', 'Farzi','Kabir Singh']\n",
    "bad_movies=['Disaster','Birdemic','House of the dead', \"son of the mask\", 'circus']\n"
   ]
  },
  {
   "cell_type": "code",
   "execution_count": 29,
   "metadata": {},
   "outputs": [
    {
     "name": "stdout",
     "output_type": "stream",
     "text": [
      "['Pathan', '3 idiots', 'Bahubali', 'Farzi', 'Kabir Singh', 'Disaster', 'Birdemic', 'House of the dead', 'son of the mask', 'circus']\n"
     ]
    }
   ],
   "source": [
    "all_movies= good_movies + bad_movies\n",
    "print(all_movies)"
   ]
  },
  {
   "cell_type": "code",
   "execution_count": 30,
   "metadata": {},
   "outputs": [],
   "source": [
    "all_movies.append('Troll 2')\n",
    "all_movies.append('The Conjuring')"
   ]
  },
  {
   "cell_type": "code",
   "execution_count": 31,
   "metadata": {},
   "outputs": [
    {
     "name": "stdout",
     "output_type": "stream",
     "text": [
      "['Pathan', '3 idiots', 'Bahubali', 'Farzi', 'Kabir Singh', 'Disaster', 'Birdemic', 'House of the dead', 'son of the mask', 'circus', 'Troll 2', 'The Conjuring']\n"
     ]
    }
   ],
   "source": [
    "print(all_movies)"
   ]
  },
  {
   "cell_type": "code",
   "execution_count": 32,
   "metadata": {},
   "outputs": [
    {
     "name": "stdout",
     "output_type": "stream",
     "text": [
      "12\n"
     ]
    }
   ],
   "source": [
    "print(len(all_movies))"
   ]
  },
  {
   "cell_type": "code",
   "execution_count": 33,
   "metadata": {},
   "outputs": [
    {
     "name": "stdout",
     "output_type": "stream",
     "text": [
      "['Pathan', '3 idiots', 'The Dark Knight', 'Bahubali', 'Farzi', 'Kabir Singh', 'Disaster', 'Birdemic', 'House of the dead', 'son of the mask', 'circus', 'Troll 2', 'The Conjuring']\n"
     ]
    }
   ],
   "source": [
    "all_movies.insert(2,'The Dark Knight')\n",
    "print(all_movies)"
   ]
  },
  {
   "cell_type": "code",
   "execution_count": 34,
   "metadata": {},
   "outputs": [],
   "source": [
    "sequels =['Fast & Furious', '2 fast 2 furious', 'Fast & Furious: Tokyo Draft']\n",
    "all_movies.extend(sequels) # add all items of list 2 in list 1"
   ]
  },
  {
   "cell_type": "code",
   "execution_count": 35,
   "metadata": {},
   "outputs": [
    {
     "name": "stdout",
     "output_type": "stream",
     "text": [
      "['Pathan', '3 idiots', 'The Dark Knight', 'Bahubali', 'Farzi', 'Kabir Singh', 'Disaster', 'Birdemic', 'House of the dead', 'son of the mask', 'circus', 'Troll 2', 'The Conjuring', 'Fast & Furious', '2 fast 2 furious', 'Fast & Furious: Tokyo Draft']\n"
     ]
    }
   ],
   "source": [
    "print(all_movies)"
   ]
  },
  {
   "cell_type": "code",
   "execution_count": 36,
   "metadata": {},
   "outputs": [
    {
     "name": "stdout",
     "output_type": "stream",
     "text": [
      "16\n"
     ]
    }
   ],
   "source": [
    "print(len(all_movies))"
   ]
  },
  {
   "cell_type": "code",
   "execution_count": 37,
   "metadata": {},
   "outputs": [],
   "source": [
    "all_movies.remove(\"Birdemic\")\n"
   ]
  },
  {
   "cell_type": "code",
   "execution_count": 38,
   "metadata": {},
   "outputs": [
    {
     "name": "stdout",
     "output_type": "stream",
     "text": [
      "['Pathan', '3 idiots', 'The Dark Knight', 'Bahubali', 'Farzi', 'Kabir Singh', 'Disaster', 'House of the dead', 'son of the mask', 'circus', 'Troll 2', 'The Conjuring', 'Fast & Furious', '2 fast 2 furious', 'Fast & Furious: Tokyo Draft']\n"
     ]
    }
   ],
   "source": [
    "print(all_movies)"
   ]
  },
  {
   "cell_type": "code",
   "execution_count": 39,
   "metadata": {},
   "outputs": [
    {
     "data": {
      "text/plain": [
       "<function list.sort(*, key=None, reverse=False)>"
      ]
     },
     "execution_count": 39,
     "metadata": {},
     "output_type": "execute_result"
    }
   ],
   "source": [
    "all_movies.sort\n"
   ]
  },
  {
   "cell_type": "code",
   "execution_count": 40,
   "metadata": {},
   "outputs": [
    {
     "data": {
      "text/plain": [
       "['Pathan', '3 idiots', 'The Dark Knight', 'Bahubali', 'Farzi']"
      ]
     },
     "execution_count": 40,
     "metadata": {},
     "output_type": "execute_result"
    }
   ],
   "source": [
    "all_movies[:5] # first five element"
   ]
  },
  {
   "cell_type": "code",
   "execution_count": 41,
   "metadata": {},
   "outputs": [
    {
     "data": {
      "text/plain": [
       "['Troll 2',\n",
       " 'The Conjuring',\n",
       " 'Fast & Furious',\n",
       " '2 fast 2 furious',\n",
       " 'Fast & Furious: Tokyo Draft']"
      ]
     },
     "execution_count": 41,
     "metadata": {},
     "output_type": "execute_result"
    }
   ],
   "source": [
    "all_movies[-5:] # last five element"
   ]
  },
  {
   "cell_type": "code",
   "execution_count": 42,
   "metadata": {},
   "outputs": [
    {
     "name": "stdout",
     "output_type": "stream",
     "text": [
      "['Pathan', '3 idiots', 'The Dark Knight', 'Bahubali 2 : The Conclusion', 'Farzi', 'Kabir Singh', 'Disaster', 'House of the dead', 'son of the mask', 'circus', 'Troll 2', 'The Conjuring', 'Fast & Furious', '2 fast 2 furious', 'Fast & Furious: Tokyo Draft']\n"
     ]
    }
   ],
   "source": [
    "all_movies[3]= 'Bahubali 2 : The Conclusion'\n",
    "print(all_movies)"
   ]
  },
  {
   "cell_type": "code",
   "execution_count": 43,
   "metadata": {},
   "outputs": [
    {
     "name": "stdout",
     "output_type": "stream",
     "text": [
      "['Pathan', '3 idiots', 'The Dark Knight', 'Bahubali 2 : The Conclusion', 'Farzi', 'Kabir Singh', 'Disaster', 'House of the dead', 'son of the mask', 'circus', 'Troll 2', 'The Conjuring', 'Fast & Furious', '2 fast 2 furious', 'Fast & Furious: Tokyo Draft']\n"
     ]
    }
   ],
   "source": [
    "all_movies.reverse\n",
    "print(all_movies)"
   ]
  },
  {
   "cell_type": "code",
   "execution_count": 44,
   "metadata": {},
   "outputs": [
    {
     "name": "stdout",
     "output_type": "stream",
     "text": [
      "['2 fast 2 furious', '3 idiots', 'Bahubali 2 : The Conclusion', 'Disaster', 'Farzi', 'Fast & Furious', 'Fast & Furious: Tokyo Draft', 'House of the dead', 'Kabir Singh', 'Pathan', 'The Conjuring', 'The Dark Knight', 'Troll 2', 'circus', 'son of the mask']\n"
     ]
    }
   ],
   "source": [
    "all_movies.sort()\n",
    "print(all_movies)"
   ]
  },
  {
   "cell_type": "code",
   "execution_count": 45,
   "metadata": {},
   "outputs": [
    {
     "name": "stdout",
     "output_type": "stream",
     "text": [
      "['son of the mask', 'circus', 'Troll 2', 'The Dark Knight', 'The Conjuring', 'Pathan', 'Kabir Singh', 'House of the dead', 'Fast & Furious: Tokyo Draft', 'Fast & Furious', 'Farzi', 'Disaster', 'Bahubali 2 : The Conclusion', '3 idiots', '2 fast 2 furious']\n"
     ]
    }
   ],
   "source": [
    "all_movies.sort(reverse=True)\n",
    "print(all_movies)"
   ]
  },
  {
   "cell_type": "code",
   "execution_count": 46,
   "metadata": {},
   "outputs": [
    {
     "name": "stdout",
     "output_type": "stream",
     "text": [
      "['Farzi', 'son of the mask', 'Disaster', 'Pathan', 'Fast & Furious', '2 fast 2 furious', 'Kabir Singh', 'House of the dead', '3 idiots', 'Fast & Furious: Tokyo Draft', 'The Conjuring', 'The Dark Knight', 'circus', 'Bahubali 2 : The Conclusion', 'Troll 2']\n"
     ]
    }
   ],
   "source": [
    "import random as rnd\n",
    "rnd.shuffle(all_movies)     \n",
    "print(all_movies)"
   ]
  },
  {
   "cell_type": "code",
   "execution_count": 47,
   "metadata": {},
   "outputs": [
    {
     "data": {
      "text/plain": [
       "'Fast & Furious: Tokyo Draft'"
      ]
     },
     "execution_count": 47,
     "metadata": {},
     "output_type": "execute_result"
    }
   ],
   "source": [
    "rnd.choice(all_movies)"
   ]
  },
  {
   "cell_type": "code",
   "execution_count": 48,
   "metadata": {},
   "outputs": [
    {
     "data": {
      "text/plain": [
       "['Farzi', 'Fast & Furious']"
      ]
     },
     "execution_count": 48,
     "metadata": {},
     "output_type": "execute_result"
    }
   ],
   "source": [
    "rnd.choices(all_movies, k=2)"
   ]
  },
  {
   "cell_type": "code",
   "execution_count": 49,
   "metadata": {},
   "outputs": [
    {
     "data": {
      "text/plain": [
       "8"
      ]
     },
     "execution_count": 49,
     "metadata": {},
     "output_type": "execute_result"
    }
   ],
   "source": [
    "all_movies.index('3 idiots')"
   ]
  },
  {
   "cell_type": "code",
   "execution_count": 50,
   "metadata": {},
   "outputs": [
    {
     "data": {
      "text/plain": [
       "'Troll 2'"
      ]
     },
     "execution_count": 50,
     "metadata": {},
     "output_type": "execute_result"
    }
   ],
   "source": [
    "all_movies.pop() # remove element from last "
   ]
  },
  {
   "cell_type": "code",
   "execution_count": 51,
   "metadata": {},
   "outputs": [
    {
     "data": {
      "text/plain": [
       "'Pathan'"
      ]
     },
     "execution_count": 51,
     "metadata": {},
     "output_type": "execute_result"
    }
   ],
   "source": [
    "all_movies.pop(3) # remove element at that index"
   ]
  },
  {
   "cell_type": "code",
   "execution_count": 52,
   "metadata": {},
   "outputs": [
    {
     "name": "stdout",
     "output_type": "stream",
     "text": [
      "[100, 2, 200, 4]\n",
      "[100, 2, 200, 4]\n",
      "True\n",
      "True\n"
     ]
    }
   ],
   "source": [
    "x= [1,2,3,4]\n",
    "y = x\n",
    "y[0]=100 # here the changes will happen in both x and y\n",
    "x[2]= 200\n",
    "print(x)\n",
    "print(y)\n",
    "print(x is y)\n",
    "print(y is x)"
   ]
  },
  {
   "cell_type": "code",
   "execution_count": 53,
   "metadata": {},
   "outputs": [
    {
     "name": "stdout",
     "output_type": "stream",
     "text": [
      "[100, 2, 200, 4]\n",
      "[100, 2, 200]\n"
     ]
    }
   ],
   "source": [
    "z = x.copy() # this will copy the value of x in z\n",
    "z.pop()\n",
    "print(x)\n",
    "print(z)"
   ]
  },
  {
   "cell_type": "code",
   "execution_count": 54,
   "metadata": {},
   "outputs": [
    {
     "name": "stdout",
     "output_type": "stream",
     "text": [
      "False\n"
     ]
    }
   ],
   "source": [
    "print(z is x)"
   ]
  },
  {
   "cell_type": "code",
   "execution_count": 58,
   "metadata": {},
   "outputs": [
    {
     "name": "stdout",
     "output_type": "stream",
     "text": [
      "4\n"
     ]
    }
   ],
   "source": [
    "def even(length): # programm to print sum of even number of a lsit\n",
    "    list = []\n",
    "    for i in range(length):\n",
    "        a=int(input(\"Enter list items : \"))\n",
    "        list.append(a)\n",
    "    total= len(list)\n",
    "    summ = 0\n",
    "    for j in range(total):\n",
    "        if list[j] % 2 == 0:\n",
    "            summ += list[j]\n",
    "            return summ\n",
    "        else:\n",
    "            ok =sum(list)\n",
    "            return ok\n",
    "print(even(5))"
   ]
  },
  {
   "cell_type": "code",
   "execution_count": null,
   "metadata": {},
   "outputs": [],
   "source": []
  }
 ],
 "metadata": {
  "kernelspec": {
   "display_name": "Python 3",
   "language": "python",
   "name": "python3"
  },
  "language_info": {
   "codemirror_mode": {
    "name": "ipython",
    "version": 3
   },
   "file_extension": ".py",
   "mimetype": "text/x-python",
   "name": "python",
   "nbconvert_exporter": "python",
   "pygments_lexer": "ipython3",
   "version": "3.10.9"
  },
  "orig_nbformat": 4,
  "vscode": {
   "interpreter": {
    "hash": "ce7b65b2ffe474abddedfae3b21eedd4a27046cb83e502735c2561f782849825"
   }
  }
 },
 "nbformat": 4,
 "nbformat_minor": 2
}
