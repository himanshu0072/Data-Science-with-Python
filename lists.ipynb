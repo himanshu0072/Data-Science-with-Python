{
 "cells": [
  {
   "cell_type": "code",
   "execution_count": 48,
   "metadata": {},
   "outputs": [],
   "source": [
    "list=[] # empty list\n",
    "list1=[0] #single element list"
   ]
  },
  {
   "cell_type": "code",
   "execution_count": 49,
   "metadata": {},
   "outputs": [
    {
     "name": "stdout",
     "output_type": "stream",
     "text": [
      "[] 1718163260928 <class 'list'>\n"
     ]
    }
   ],
   "source": [
    "print(list,id(list),type(list))"
   ]
  },
  {
   "cell_type": "code",
   "execution_count": 50,
   "metadata": {},
   "outputs": [
    {
     "name": "stdout",
     "output_type": "stream",
     "text": [
      "[1]\n"
     ]
    }
   ],
   "source": [
    "list.append(1) # adding item in list\n",
    "print(list)"
   ]
  },
  {
   "cell_type": "code",
   "execution_count": 51,
   "metadata": {},
   "outputs": [
    {
     "data": {
      "text/plain": [
       "1"
      ]
     },
     "execution_count": 51,
     "metadata": {},
     "output_type": "execute_result"
    }
   ],
   "source": [
    "list.pop(0) # remove the element of index 0"
   ]
  },
  {
   "cell_type": "code",
   "execution_count": 52,
   "metadata": {},
   "outputs": [
    {
     "name": "stdout",
     "output_type": "stream",
     "text": [
      "[]\n"
     ]
    }
   ],
   "source": [
    "print(list)"
   ]
  },
  {
   "cell_type": "code",
   "execution_count": 53,
   "metadata": {},
   "outputs": [],
   "source": [
    "list.append(1)\n",
    "list.append(2)\n",
    "list.append(3)\n",
    "list.append(4)\n",
    "list.append(5)\n",
    "list.append(6)\n",
    "list.append(7)\n",
    "list.append(8)\n",
    "list.append(9)\n",
    "list.append(9)"
   ]
  },
  {
   "cell_type": "code",
   "execution_count": 54,
   "metadata": {},
   "outputs": [
    {
     "name": "stdout",
     "output_type": "stream",
     "text": [
      "[1, 2, 3, 4, 5, 6, 7, 8, 9, 9]\n"
     ]
    }
   ],
   "source": [
    "print(list)"
   ]
  },
  {
   "cell_type": "code",
   "execution_count": 55,
   "metadata": {},
   "outputs": [],
   "source": [
    "list.remove(9) #remove only one 9 from the list"
   ]
  },
  {
   "cell_type": "code",
   "execution_count": 56,
   "metadata": {},
   "outputs": [
    {
     "name": "stdout",
     "output_type": "stream",
     "text": [
      "[1, 2, 3, 4, 5, 6, 7, 8, 9]\n"
     ]
    }
   ],
   "source": [
    "print(list)"
   ]
  },
  {
   "cell_type": "code",
   "execution_count": 69,
   "metadata": {},
   "outputs": [
    {
     "name": "stdout",
     "output_type": "stream",
     "text": [
      "['1', '0', '5', '2', '5', '8', '8', '8', '88', '8', '8', '5', '5']\n"
     ]
    }
   ],
   "source": [
    "n=input(\"Enter the list item seperated with only one space:\")\n",
    "list2=n.split()\n",
    "print(list2)\n",
    "\n"
   ]
  },
  {
   "cell_type": "code",
   "execution_count": 86,
   "metadata": {},
   "outputs": [
    {
     "name": "stdout",
     "output_type": "stream",
     "text": [
      "13\n"
     ]
    }
   ],
   "source": [
    "size=len(list2)\n",
    "print(size)"
   ]
  },
  {
   "cell_type": "code",
   "execution_count": 85,
   "metadata": {},
   "outputs": [
    {
     "name": "stdout",
     "output_type": "stream",
     "text": [
      "0\n",
      "1\n",
      "2\n",
      "3\n",
      "4\n",
      "5\n",
      "6\n",
      "7\n",
      "8\n",
      "9\n",
      "10\n",
      "11\n",
      "12\n"
     ]
    }
   ],
   "source": [
    "for i in range(size):\n",
    "    print(i)\n"
   ]
  },
  {
   "cell_type": "code",
   "execution_count": 87,
   "metadata": {},
   "outputs": [
    {
     "name": "stdout",
     "output_type": "stream",
     "text": [
      "['1', '0', '5', '2', '5', '8', '8', '8', '88', '8', '8', '5', '5']\n"
     ]
    }
   ],
   "source": [
    "print(list2)"
   ]
  },
  {
   "cell_type": "code",
   "execution_count": 90,
   "metadata": {},
   "outputs": [],
   "source": [
    "while list2:\n",
    "    print(list2.pop())\n",
    "\n",
    "# for item in list2:\n",
    "#     print(item)\n",
    "# list2[:] = []"
   ]
  },
  {
   "cell_type": "code",
   "execution_count": 91,
   "metadata": {},
   "outputs": [
    {
     "name": "stdout",
     "output_type": "stream",
     "text": [
      "[]\n"
     ]
    }
   ],
   "source": [
    "print(list2)"
   ]
  },
  {
   "attachments": {},
   "cell_type": "markdown",
   "metadata": {},
   "source": [
    "proble solving questions\n"
   ]
  },
  {
   "cell_type": "code",
   "execution_count": 98,
   "metadata": {},
   "outputs": [
    {
     "name": "stdout",
     "output_type": "stream",
     "text": [
      "jan feb mar\n"
     ]
    }
   ],
   "source": [
    "def creating_gen(index):  \n",
    "    months = ['jan','feb','mar','apr','may','jun','jul','aug','sep','oct','nov','dec']  \n",
    "    yield months[index]  \n",
    "    yield months[index+1]  \n",
    "    yield months[index+2]  \n",
    "next_month = creating_gen(0)  \n",
    "print(next(next_month), next(next_month), next(next_month)) "
   ]
  },
  {
   "attachments": {},
   "cell_type": "markdown",
   "metadata": {},
   "source": [
    "Changing a list into a tuple"
   ]
  },
  {
   "cell_type": "code",
   "execution_count": 99,
   "metadata": {},
   "outputs": [
    {
     "name": "stdout",
     "output_type": "stream",
     "text": [
      "('jan', 'feb', 'mar', 'apr', 'may', 'jun', 'jul', 'aug', 'sep', 'oct', 'nov', 'dec')\n",
      "<class 'tuple'>\n"
     ]
    }
   ],
   "source": [
    "month = ['jan','feb','mar','apr','may','jun','jul','aug','sep','oct','nov','dec']  \n",
    "m_to_list = tuple(month)  # this will chage a list into a tuple\n",
    "print(m_to_list)  \n",
    "print(type(m_to_list))  \n"
   ]
  },
  {
   "attachments": {},
   "cell_type": "markdown",
   "metadata": {},
   "source": [
    "# what is numpy array\n",
    "it is more versatile than the list"
   ]
  },
  {
   "cell_type": "code",
   "execution_count": 101,
   "metadata": {},
   "outputs": [],
   "source": [
    "# creating an empty array in python"
   ]
  },
  {
   "cell_type": "code",
   "execution_count": 102,
   "metadata": {},
   "outputs": [
    {
     "name": "stdout",
     "output_type": "stream",
     "text": [
      "[]\n",
      "[[0.00000000e+000 0.00000000e+000 0.00000000e+000]\n",
      " [0.00000000e+000 0.00000000e+000 7.94457559e-321]\n",
      " [6.23053614e-307 7.56592337e-307 5.33590898e-322]]\n"
     ]
    }
   ],
   "source": [
    "import numpy  \n",
    "#method 1  \n",
    "array_1 = numpy.array([])  \n",
    "print(array_1)  \n",
    "#method 2  \n",
    "array_2 = numpy.empty(shape=(3,3))  \n",
    "print(array_2)  "
   ]
  },
  {
   "cell_type": "code",
   "execution_count": 103,
   "metadata": {},
   "outputs": [
    {
     "name": "stdout",
     "output_type": "stream",
     "text": [
      "3\n",
      "6\n",
      "7\n"
     ]
    }
   ],
   "source": [
    "\n",
    "a = [4, 6, 8, 3, 1, 7]  \n",
    "print(a[-3])  \n",
    "print(a[-5])  \n",
    "print(a[-1])  "
   ]
  },
  {
   "cell_type": "code",
   "execution_count": 2,
   "metadata": {},
   "outputs": [],
   "source": [
    "x=[] #blank list\n",
    "x1=[1,2,3] # list with 3 element\n",
    "x2=[4,5,'Apple','Orange'] # mixed element\n",
    "x3=['Aman','Naman'] # string element"
   ]
  },
  {
   "cell_type": "code",
   "execution_count": 5,
   "metadata": {},
   "outputs": [
    {
     "name": "stdout",
     "output_type": "stream",
     "text": [
      "[] [1, 2, 3] [4, 5, 'Apple', 'Orange'] ['Aman', 'Naman']\n"
     ]
    }
   ],
   "source": [
    "print(x, x1, x2, x3)"
   ]
  },
  {
   "cell_type": "code",
   "execution_count": 7,
   "metadata": {},
   "outputs": [
    {
     "data": {
      "text/plain": [
       "[1, 2, 3, 4, 5, 'Apple', 'Orange']"
      ]
     },
     "execution_count": 7,
     "metadata": {},
     "output_type": "execute_result"
    }
   ],
   "source": [
    "x1 + x2 # adding two list "
   ]
  },
  {
   "cell_type": "code",
   "execution_count": 8,
   "metadata": {},
   "outputs": [
    {
     "name": "stdout",
     "output_type": "stream",
     "text": [
      "[1, 2, 3, 1, 2, 3, 1, 2, 3, 1, 2, 3, 1, 2, 3]\n"
     ]
    }
   ],
   "source": [
    "x5 = x1*5\n",
    "print(x5)"
   ]
  },
  {
   "cell_type": "code",
   "execution_count": 11,
   "metadata": {},
   "outputs": [],
   "source": [
    "good_movies=['Pathan', '3 idiots', 'Bahubali', 'Farzi','Kabir Singh']\n",
    "bad_movies=['Disaster','Birdemic','House of the dead', \"son of the mask\", 'circus']\n"
   ]
  },
  {
   "cell_type": "code",
   "execution_count": 12,
   "metadata": {},
   "outputs": [
    {
     "name": "stdout",
     "output_type": "stream",
     "text": [
      "['Pathan', '3 idiots', 'Bahubali', 'Farzi', 'Kabir Singh', 'Disaster', 'Birdemic', 'House of the dead', 'son of the mask', 'circus']\n"
     ]
    }
   ],
   "source": [
    "all_movies= good_movies + bad_movies\n",
    "print(all_movies)"
   ]
  },
  {
   "cell_type": "code",
   "execution_count": 13,
   "metadata": {},
   "outputs": [],
   "source": [
    "all_movies.append('Troll 2')\n",
    "all_movies.append('The Conjuring')"
   ]
  },
  {
   "cell_type": "code",
   "execution_count": 15,
   "metadata": {},
   "outputs": [
    {
     "name": "stdout",
     "output_type": "stream",
     "text": [
      "['Pathan', '3 idiots', 'Bahubali', 'Farzi', 'Kabir Singh', 'Disaster', 'Birdemic', 'House of the dead', 'son of the mask', 'circus', 'Troll 2', 'The Conjuring']\n"
     ]
    }
   ],
   "source": [
    "print(all_movies)"
   ]
  },
  {
   "cell_type": "code",
   "execution_count": 16,
   "metadata": {},
   "outputs": [
    {
     "name": "stdout",
     "output_type": "stream",
     "text": [
      "12\n"
     ]
    }
   ],
   "source": [
    "print(len(all_movies))"
   ]
  },
  {
   "cell_type": "code",
   "execution_count": 17,
   "metadata": {},
   "outputs": [
    {
     "name": "stdout",
     "output_type": "stream",
     "text": [
      "['Pathan', '3 idiots', 'The Dark Knight', 'Bahubali', 'Farzi', 'Kabir Singh', 'Disaster', 'Birdemic', 'House of the dead', 'son of the mask', 'circus', 'Troll 2', 'The Conjuring']\n"
     ]
    }
   ],
   "source": [
    "all_movies.insert(2,'The Dark Knight')\n",
    "print(all_movies)"
   ]
  },
  {
   "cell_type": "code",
   "execution_count": 18,
   "metadata": {},
   "outputs": [],
   "source": [
    "sequels =['Fast & Furious', '2 fast 2 furious', 'Fast & Furious: Tokyo Draft']\n",
    "all_movies.extend(sequels) # add all items of list 2 in list 1"
   ]
  },
  {
   "cell_type": "code",
   "execution_count": 19,
   "metadata": {},
   "outputs": [
    {
     "name": "stdout",
     "output_type": "stream",
     "text": [
      "['Pathan', '3 idiots', 'The Dark Knight', 'Bahubali', 'Farzi', 'Kabir Singh', 'Disaster', 'Birdemic', 'House of the dead', 'son of the mask', 'circus', 'Troll 2', 'The Conjuring', 'Fast & Furious', '2 fast 2 furious', 'Fast & Furious: Tokyo Draft']\n"
     ]
    }
   ],
   "source": [
    "print(all_movies)"
   ]
  },
  {
   "cell_type": "code",
   "execution_count": 20,
   "metadata": {},
   "outputs": [
    {
     "name": "stdout",
     "output_type": "stream",
     "text": [
      "16\n"
     ]
    }
   ],
   "source": [
    "print(len(all_movies))"
   ]
  },
  {
   "cell_type": "code",
   "execution_count": 24,
   "metadata": {},
   "outputs": [],
   "source": [
    "all_movies.remove(\"Birdemic\")\n"
   ]
  },
  {
   "cell_type": "code",
   "execution_count": 25,
   "metadata": {},
   "outputs": [
    {
     "name": "stdout",
     "output_type": "stream",
     "text": [
      "['Pathan', '3 idiots', 'The Dark Knight', 'Bahubali', 'Farzi', 'Kabir Singh', 'Disaster', 'House of the dead', 'circus', 'Troll 2', 'The Conjuring', 'Fast & Furious', '2 fast 2 furious', 'Fast & Furious: Tokyo Draft']\n"
     ]
    }
   ],
   "source": [
    "print(all_movies)"
   ]
  },
  {
   "cell_type": "code",
   "execution_count": 31,
   "metadata": {},
   "outputs": [
    {
     "data": {
      "text/plain": [
       "<function list.sort(*, key=None, reverse=False)>"
      ]
     },
     "execution_count": 31,
     "metadata": {},
     "output_type": "execute_result"
    }
   ],
   "source": [
    "all_movies.sort\n"
   ]
  },
  {
   "cell_type": "code",
   "execution_count": 38,
   "metadata": {},
   "outputs": [
    {
     "data": {
      "text/plain": [
       "['2 fast 2 furious', '3 idiots', 'Bahubali', 'Disaster', 'Farzi']"
      ]
     },
     "execution_count": 38,
     "metadata": {},
     "output_type": "execute_result"
    }
   ],
   "source": [
    "all_movies[:5] # first five element"
   ]
  },
  {
   "cell_type": "code",
   "execution_count": 40,
   "metadata": {},
   "outputs": [
    {
     "data": {
      "text/plain": [
       "['Pathan', 'The Conjuring', 'The Dark Knight', 'Troll 2', 'circus']"
      ]
     },
     "execution_count": 40,
     "metadata": {},
     "output_type": "execute_result"
    }
   ],
   "source": [
    "all_movies[-5:] # last five element"
   ]
  },
  {
   "cell_type": "code",
   "execution_count": 51,
   "metadata": {},
   "outputs": [
    {
     "name": "stdout",
     "output_type": "stream",
     "text": [
      "['2 fast 2 furious', '3 idiots', 'Bahubali', 'Bahubali 2 : The Conclusion', 'Farzi', 'Fast & Furious', 'Fast & Furious: Tokyo Draft', 'House of the dead', 'Kabir Singh', 'Pathan', 'The Conjuring', 'The Dark Knight', 'Troll 2', 'circus']\n"
     ]
    }
   ],
   "source": [
    "all_movies[3]= 'Bahubali 2 : The Conclusion'\n",
    "print(all_movies)"
   ]
  },
  {
   "cell_type": "code",
   "execution_count": 50,
   "metadata": {},
   "outputs": [
    {
     "name": "stdout",
     "output_type": "stream",
     "text": [
      "['2 fast 2 furious', '3 idiots', 'Bahubali', 'Bahubali 2 : The Conclusion', 'Farzi', 'Fast & Furious', 'Fast & Furious: Tokyo Draft', 'House of the dead', 'Kabir Singh', 'Pathan', 'The Conjuring', 'The Dark Knight', 'Troll 2', 'circus']\n"
     ]
    }
   ],
   "source": [
    "all_movies.reverse\n",
    "print(all_movies)"
   ]
  },
  {
   "cell_type": "code",
   "execution_count": 52,
   "metadata": {},
   "outputs": [
    {
     "name": "stdout",
     "output_type": "stream",
     "text": [
      "['2 fast 2 furious', '3 idiots', 'Bahubali', 'Bahubali 2 : The Conclusion', 'Farzi', 'Fast & Furious', 'Fast & Furious: Tokyo Draft', 'House of the dead', 'Kabir Singh', 'Pathan', 'The Conjuring', 'The Dark Knight', 'Troll 2', 'circus']\n"
     ]
    }
   ],
   "source": [
    "all_movies.sort()\n",
    "print(all_movies)"
   ]
  },
  {
   "cell_type": "code",
   "execution_count": 53,
   "metadata": {},
   "outputs": [
    {
     "name": "stdout",
     "output_type": "stream",
     "text": [
      "['circus', 'Troll 2', 'The Dark Knight', 'The Conjuring', 'Pathan', 'Kabir Singh', 'House of the dead', 'Fast & Furious: Tokyo Draft', 'Fast & Furious', 'Farzi', 'Bahubali 2 : The Conclusion', 'Bahubali', '3 idiots', '2 fast 2 furious']\n"
     ]
    }
   ],
   "source": [
    "all_movies.sort(reverse=True)\n",
    "print(all_movies)"
   ]
  },
  {
   "cell_type": "code",
   "execution_count": 55,
   "metadata": {},
   "outputs": [
    {
     "name": "stdout",
     "output_type": "stream",
     "text": [
      "['Fast & Furious: Tokyo Draft', 'Pathan', 'The Dark Knight', 'Kabir Singh', 'Troll 2', 'Bahubali 2 : The Conclusion', '3 idiots', 'Farzi', '2 fast 2 furious', 'House of the dead', 'Bahubali', 'Fast & Furious', 'The Conjuring', 'circus']\n"
     ]
    }
   ],
   "source": [
    "import random as rnd\n",
    "rnd.shuffle(all_movies)     \n",
    "print(all_movies)"
   ]
  },
  {
   "cell_type": "code",
   "execution_count": 60,
   "metadata": {},
   "outputs": [
    {
     "data": {
      "text/plain": [
       "'circus'"
      ]
     },
     "execution_count": 60,
     "metadata": {},
     "output_type": "execute_result"
    }
   ],
   "source": [
    "rnd.choice(all_movies)"
   ]
  },
  {
   "cell_type": "code",
   "execution_count": 69,
   "metadata": {},
   "outputs": [
    {
     "data": {
      "text/plain": [
       "['Troll 2', 'Fast & Furious']"
      ]
     },
     "execution_count": 69,
     "metadata": {},
     "output_type": "execute_result"
    }
   ],
   "source": [
    "rnd.choices(all_movies, k=2)"
   ]
  },
  {
   "cell_type": "code",
   "execution_count": 70,
   "metadata": {},
   "outputs": [
    {
     "data": {
      "text/plain": [
       "6"
      ]
     },
     "execution_count": 70,
     "metadata": {},
     "output_type": "execute_result"
    }
   ],
   "source": [
    "all_movies.index('3 idiots')"
   ]
  },
  {
   "cell_type": "code",
   "execution_count": 72,
   "metadata": {},
   "outputs": [
    {
     "data": {
      "text/plain": [
       "'The Conjuring'"
      ]
     },
     "execution_count": 72,
     "metadata": {},
     "output_type": "execute_result"
    }
   ],
   "source": [
    "all_movies.pop() # remove element from last "
   ]
  },
  {
   "cell_type": "code",
   "execution_count": 73,
   "metadata": {},
   "outputs": [
    {
     "data": {
      "text/plain": [
       "'Kabir Singh'"
      ]
     },
     "execution_count": 73,
     "metadata": {},
     "output_type": "execute_result"
    }
   ],
   "source": [
    "all_movies.pop(3) # remove element at that index"
   ]
  },
  {
   "cell_type": "code",
   "execution_count": 77,
   "metadata": {},
   "outputs": [
    {
     "name": "stdout",
     "output_type": "stream",
     "text": [
      "[100, 2, 200, 4]\n",
      "[100, 2, 200, 4]\n",
      "True\n",
      "True\n"
     ]
    }
   ],
   "source": [
    "x= [1,2,3,4]\n",
    "y = x\n",
    "y[0]=100 # here the changes will happen in both x and y\n",
    "x[2]= 200\n",
    "print(x)\n",
    "print(y)\n",
    "print(x is y)\n",
    "print(y is x)"
   ]
  },
  {
   "cell_type": "code",
   "execution_count": 78,
   "metadata": {},
   "outputs": [
    {
     "name": "stdout",
     "output_type": "stream",
     "text": [
      "[100, 2, 200, 4]\n",
      "[100, 2, 200]\n"
     ]
    }
   ],
   "source": [
    "z = x.copy() # this will copy the value of x in z\n",
    "z.pop()\n",
    "print(x)\n",
    "print(z)"
   ]
  },
  {
   "cell_type": "code",
   "execution_count": 79,
   "metadata": {},
   "outputs": [
    {
     "name": "stdout",
     "output_type": "stream",
     "text": [
      "False\n"
     ]
    }
   ],
   "source": [
    "print(z is x)"
   ]
  }
 ],
 "metadata": {
  "kernelspec": {
   "display_name": "Python 3",
   "language": "python",
   "name": "python3"
  },
  "language_info": {
   "codemirror_mode": {
    "name": "ipython",
    "version": 3
   },
   "file_extension": ".py",
   "mimetype": "text/x-python",
   "name": "python",
   "nbconvert_exporter": "python",
   "pygments_lexer": "ipython3",
   "version": "3.10.9"
  },
  "orig_nbformat": 4,
  "vscode": {
   "interpreter": {
    "hash": "ce7b65b2ffe474abddedfae3b21eedd4a27046cb83e502735c2561f782849825"
   }
  }
 },
 "nbformat": 4,
 "nbformat_minor": 2
}
