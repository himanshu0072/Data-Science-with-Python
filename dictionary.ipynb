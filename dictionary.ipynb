{
 "cells": [
  {
   "attachments": {},
   "cell_type": "markdown",
   "metadata": {},
   "source": [
    "dictionary\n",
    "- ordered\n",
    "- mutable\n",
    "- unindexed\n",
    "- key : value\n",
    "- keys are unique\n",
    "- values can be duplicated\n",
    "- values can be mutable\n",
    "- represented by '{ }'\n",
    "- can be nested\n",
    "- dict () can be used to create dictionary\n",
    "- "
   ]
  },
  {
   "cell_type": "code",
   "execution_count": 3,
   "metadata": {},
   "outputs": [],
   "source": [
    "book={'title':\"The Lost Metal\", \n",
    "      \"author\": \"Himu\",\n",
    "      \"pages\":699,\n",
    "      \"price\": \"$79\",\n",
    "      'type': \"Hard cover\"\n",
    "      }"
   ]
  },
  {
   "cell_type": "code",
   "execution_count": 4,
   "metadata": {},
   "outputs": [
    {
     "name": "stdout",
     "output_type": "stream",
     "text": [
      "{'title': 'The Lost Metal', 'author': 'Himu', 'pages': 699, 'price': '$79', 'type': 'Hard cover'}\n"
     ]
    }
   ],
   "source": [
    "print(book)"
   ]
  },
  {
   "cell_type": "code",
   "execution_count": 16,
   "metadata": {},
   "outputs": [
    {
     "data": {
      "text/plain": [
       "'Something I never told you'"
      ]
     },
     "execution_count": 16,
     "metadata": {},
     "output_type": "execute_result"
    }
   ],
   "source": [
    "book['title']"
   ]
  },
  {
   "cell_type": "code",
   "execution_count": 17,
   "metadata": {},
   "outputs": [],
   "source": [
    "book['title']='Something I never told you'"
   ]
  },
  {
   "cell_type": "code",
   "execution_count": 18,
   "metadata": {},
   "outputs": [
    {
     "data": {
      "text/plain": [
       "{'title': 'Something I never told you',\n",
       " 'author': 'Himu',\n",
       " 'pages': 699,\n",
       " 'price': '$79',\n",
       " 'type': 'Hard cover'}"
      ]
     },
     "execution_count": 18,
     "metadata": {},
     "output_type": "execute_result"
    }
   ],
   "source": [
    "book"
   ]
  },
  {
   "cell_type": "code",
   "execution_count": 19,
   "metadata": {},
   "outputs": [
    {
     "data": {
      "text/plain": [
       "['title', 'author', 'pages', 'price', 'type']"
      ]
     },
     "execution_count": 19,
     "metadata": {},
     "output_type": "execute_result"
    }
   ],
   "source": [
    "list(book.keys())"
   ]
  },
  {
   "cell_type": "code",
   "execution_count": 20,
   "metadata": {},
   "outputs": [
    {
     "data": {
      "text/plain": [
       "['Something I never told you', 'Himu', 699, '$79', 'Hard cover']"
      ]
     },
     "execution_count": 20,
     "metadata": {},
     "output_type": "execute_result"
    }
   ],
   "source": [
    "list(book.values())"
   ]
  },
  {
   "cell_type": "code",
   "execution_count": 21,
   "metadata": {},
   "outputs": [
    {
     "name": "stdout",
     "output_type": "stream",
     "text": [
      "title\n",
      "author\n",
      "pages\n",
      "price\n",
      "type\n"
     ]
    }
   ],
   "source": [
    "for i in book: # normal loops gives only key\n",
    "    print(i)"
   ]
  },
  {
   "cell_type": "code",
   "execution_count": 23,
   "metadata": {},
   "outputs": [
    {
     "name": "stdout",
     "output_type": "stream",
     "text": [
      "title Something I never told you\n",
      "author Himu\n",
      "pages 699\n",
      "price $79\n",
      "type Hard cover\n"
     ]
    }
   ],
   "source": [
    "for i in book: # this will give keys and value both\n",
    "    print(i, book[i])"
   ]
  },
  {
   "cell_type": "code",
   "execution_count": 24,
   "metadata": {},
   "outputs": [
    {
     "name": "stdout",
     "output_type": "stream",
     "text": [
      "title Something I never told you\n",
      "author Himu\n",
      "pages 699\n",
      "price $79\n",
      "type Hard cover\n"
     ]
    }
   ],
   "source": [
    "for k, v in book.items():\n",
    "    print(k, v)\n"
   ]
  },
  {
   "cell_type": "code",
   "execution_count": 25,
   "metadata": {},
   "outputs": [
    {
     "name": "stdout",
     "output_type": "stream",
     "text": [
      "{'name': 'Himanshu', 'email': 'himanshu@gmail.com', 'dob': '12-12-12', 'password': 'alewxa-167273'}\n"
     ]
    }
   ],
   "source": [
    "userdata={}\n",
    "userdata['name']= input(\"Enter your Name:\")\n",
    "userdata['email']= input(\"Enter your email:\")\n",
    "userdata['dob']= input(\"Enter your dob:\")\n",
    "userdata['password']= input(\"Enter your password:\")\n",
    "print(userdata)\n"
   ]
  },
  {
   "attachments": {},
   "cell_type": "markdown",
   "metadata": {},
   "source": [
    "Nested Dictionary"
   ]
  },
  {
   "cell_type": "code",
   "execution_count": 28,
   "metadata": {},
   "outputs": [],
   "source": [
    "marks={\n",
    "    \"himanshu\":{\n",
    "    'english': 86,\n",
    "    'hindi': 85,\n",
    "    'math':20\n",
    "                },\n",
    "    \"Raj\":{\n",
    "        'english': 82,\n",
    "        'hindi': 68,\n",
    "        'math':32\n",
    "    }\n",
    "}"
   ]
  },
  {
   "cell_type": "code",
   "execution_count": 27,
   "metadata": {},
   "outputs": [
    {
     "name": "stdout",
     "output_type": "stream",
     "text": [
      "{'himanshu': {'english': 86, 'hindi': 85, 'math': 20}, 'Raj': {'english': 82, 'hindi': 68, 'math': 32}}\n"
     ]
    }
   ],
   "source": [
    "print(marks)"
   ]
  },
  {
   "cell_type": "code",
   "execution_count": 30,
   "metadata": {},
   "outputs": [
    {
     "data": {
      "text/plain": [
       "{'english': 86, 'hindi': 85, 'math': 20}"
      ]
     },
     "execution_count": 30,
     "metadata": {},
     "output_type": "execute_result"
    }
   ],
   "source": [
    "marks['himanshu']"
   ]
  },
  {
   "cell_type": "code",
   "execution_count": 31,
   "metadata": {},
   "outputs": [
    {
     "data": {
      "text/plain": [
       "20"
      ]
     },
     "execution_count": 31,
     "metadata": {},
     "output_type": "execute_result"
    }
   ],
   "source": [
    "marks['himanshu']['math']"
   ]
  },
  {
   "cell_type": "code",
   "execution_count": 32,
   "metadata": {},
   "outputs": [
    {
     "name": "stdout",
     "output_type": "stream",
     "text": [
      "himanshu {'english': 86, 'hindi': 85, 'math': 20}\n",
      "Raj {'english': 82, 'hindi': 68, 'math': 32}\n"
     ]
    }
   ],
   "source": [
    "for k, v in marks.items():\n",
    "    print(k,v)"
   ]
  },
  {
   "cell_type": "code",
   "execution_count": 34,
   "metadata": {},
   "outputs": [
    {
     "name": "stdout",
     "output_type": "stream",
     "text": [
      "himanshu -> english 86\n",
      "himanshu -> hindi 85\n",
      "himanshu -> math 20\n",
      "Raj -> english 82\n",
      "Raj -> hindi 68\n",
      "Raj -> math 32\n"
     ]
    }
   ],
   "source": [
    "for k, v in marks.items():\n",
    "    for k1, v1 in v.items():\n",
    "        print(k,'->',k1,v1)\n"
   ]
  },
  {
   "cell_type": "code",
   "execution_count": 35,
   "metadata": {},
   "outputs": [
    {
     "data": {
      "text/plain": [
       "'Himu'"
      ]
     },
     "execution_count": 35,
     "metadata": {},
     "output_type": "execute_result"
    }
   ],
   "source": [
    "book.pop('author')"
   ]
  },
  {
   "cell_type": "code",
   "execution_count": 36,
   "metadata": {},
   "outputs": [
    {
     "data": {
      "text/plain": [
       "{'title': 'Something I never told you',\n",
       " 'pages': 699,\n",
       " 'price': '$79',\n",
       " 'type': 'Hard cover'}"
      ]
     },
     "execution_count": 36,
     "metadata": {},
     "output_type": "execute_result"
    }
   ],
   "source": [
    "book"
   ]
  },
  {
   "cell_type": "code",
   "execution_count": 37,
   "metadata": {},
   "outputs": [
    {
     "data": {
      "text/plain": [
       "{1: 'Kuch bhi', 2: 'Kuch bhi', 3: 'Kuch bhi', 4: 'Kuch bhi'}"
      ]
     },
     "execution_count": 37,
     "metadata": {},
     "output_type": "execute_result"
    }
   ],
   "source": [
    "x=[1,2,3,4]\n",
    "dict.fromkeys(x, 'Kuch bhi')"
   ]
  },
  {
   "cell_type": "code",
   "execution_count": null,
   "metadata": {},
   "outputs": [],
   "source": []
  }
 ],
 "metadata": {
  "kernelspec": {
   "display_name": "Python 3",
   "language": "python",
   "name": "python3"
  },
  "language_info": {
   "codemirror_mode": {
    "name": "ipython",
    "version": 3
   },
   "file_extension": ".py",
   "mimetype": "text/x-python",
   "name": "python",
   "nbconvert_exporter": "python",
   "pygments_lexer": "ipython3",
   "version": "3.10.9"
  },
  "orig_nbformat": 4
 },
 "nbformat": 4,
 "nbformat_minor": 2
}
