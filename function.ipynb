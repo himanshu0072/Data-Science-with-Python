{
 "cells": [
  {
   "cell_type": "code",
   "execution_count": 1,
   "metadata": {},
   "outputs": [],
   "source": [
    "def greeting():\n",
    "    pass"
   ]
  },
  {
   "cell_type": "code",
   "execution_count": 3,
   "metadata": {},
   "outputs": [],
   "source": [
    "def greeting():\n",
    "    print(\"☀️☀️☀️☀️☀️\")\n",
    "    print(\"Good Morning\")\n",
    "    print(\"☀️☀️☀️☀️☀️\")"
   ]
  },
  {
   "cell_type": "code",
   "execution_count": 4,
   "metadata": {},
   "outputs": [
    {
     "name": "stdout",
     "output_type": "stream",
     "text": [
      "☀️☀️☀️☀️☀️\n",
      "Good Morning\n",
      "☀️☀️☀️☀️☀️\n"
     ]
    }
   ],
   "source": [
    "greeting()"
   ]
  },
  {
   "cell_type": "code",
   "execution_count": 5,
   "metadata": {},
   "outputs": [
    {
     "name": "stdout",
     "output_type": "stream",
     "text": [
      "☀️☀️☀️☀️☀️\n",
      "Good Morning\n",
      "☀️☀️☀️☀️☀️\n",
      "☀️☀️☀️☀️☀️\n",
      "Good Morning\n",
      "☀️☀️☀️☀️☀️\n",
      "☀️☀️☀️☀️☀️\n",
      "Good Morning\n",
      "☀️☀️☀️☀️☀️\n",
      "☀️☀️☀️☀️☀️\n",
      "Good Morning\n",
      "☀️☀️☀️☀️☀️\n"
     ]
    }
   ],
   "source": [
    "greeting()\n",
    "greeting()\n",
    "greeting()\n",
    "greeting()"
   ]
  },
  {
   "cell_type": "code",
   "execution_count": 14,
   "metadata": {},
   "outputs": [],
   "source": [
    "# 1. bekar function hai\n",
    "def area_cube():\n",
    "    side=int(input(\"Enter the side os a cude:\")) # don't take input inside a function\n",
    "    area=side**3\n",
    "    print(f\"Area of a cube is ={area}\") # don't display output inside a function\n",
    "\n"
   ]
  },
  {
   "cell_type": "code",
   "execution_count": 10,
   "metadata": {},
   "outputs": [
    {
     "name": "stdout",
     "output_type": "stream",
     "text": [
      "Area of a cube is =125\n"
     ]
    }
   ],
   "source": [
    "area_cube()"
   ]
  },
  {
   "cell_type": "code",
   "execution_count": 12,
   "metadata": {},
   "outputs": [],
   "source": [
    "# 2. Better Function\n",
    "def area_cube(side):\n",
    "    area=side**3\n",
    "    print(f\"Area of a cube is ={area}\")"
   ]
  },
  {
   "cell_type": "code",
   "execution_count": 13,
   "metadata": {},
   "outputs": [
    {
     "name": "stdout",
     "output_type": "stream",
     "text": [
      "Area of a cube is =1000\n",
      "Area of a cube is =64000\n",
      "Area of a cube is =3375\n",
      "Area of a cube is =2197\n",
      "Area of a cube is =8000\n"
     ]
    }
   ],
   "source": [
    "area_cube(10)\n",
    "area_cube(40)\n",
    "area_cube(15)\n",
    "area_cube(13)\n",
    "x=int(input(\"Enter side:\"))\n",
    "area_cube(x)"
   ]
  },
  {
   "cell_type": "code",
   "execution_count": 16,
   "metadata": {},
   "outputs": [],
   "source": [
    "# 3. Perfect function\n",
    "def area_cube(side):\n",
    "    area=side**3\n",
    "    return area\n"
   ]
  },
  {
   "cell_type": "code",
   "execution_count": 20,
   "metadata": {},
   "outputs": [
    {
     "data": {
      "text/plain": [
       "125"
      ]
     },
     "execution_count": 20,
     "metadata": {},
     "output_type": "execute_result"
    }
   ],
   "source": [
    "area_cube(5)"
   ]
  },
  {
   "cell_type": "code",
   "execution_count": 22,
   "metadata": {},
   "outputs": [
    {
     "name": "stdout",
     "output_type": "stream",
     "text": [
      "the area of cude is :125\n"
     ]
    }
   ],
   "source": [
    "print(f\"the area of cude is :{area_cube(5)}\")"
   ]
  },
  {
   "cell_type": "code",
   "execution_count": 23,
   "metadata": {},
   "outputs": [
    {
     "name": "stdout",
     "output_type": "stream",
     "text": [
      "the area of cube a and cube b is :189\n"
     ]
    }
   ],
   "source": [
    "print(f\"the area of cube a and cube b is :{area_cube(5)+area_cube(4)}\")"
   ]
  },
  {
   "cell_type": "code",
   "execution_count": 24,
   "metadata": {},
   "outputs": [
    {
     "name": "stdout",
     "output_type": "stream",
     "text": [
      "8008\n"
     ]
    }
   ],
   "source": [
    "x=area_cube(20)+area_cube(2)\n",
    "print(x)"
   ]
  },
  {
   "cell_type": "code",
   "execution_count": 25,
   "metadata": {},
   "outputs": [],
   "source": [
    "def si(p, r, t):\n",
    "    return (p*r*t)/100"
   ]
  },
  {
   "cell_type": "code",
   "execution_count": 26,
   "metadata": {},
   "outputs": [
    {
     "data": {
      "text/plain": [
       "115.0"
      ]
     },
     "execution_count": 26,
     "metadata": {},
     "output_type": "execute_result"
    }
   ],
   "source": [
    "si(1000, 2.3, 5)"
   ]
  },
  {
   "cell_type": "code",
   "execution_count": 28,
   "metadata": {},
   "outputs": [
    {
     "name": "stdout",
     "output_type": "stream",
     "text": [
      "simple instrest is :115.0\n"
     ]
    }
   ],
   "source": [
    "p=int(input(\"enter p:\"))\n",
    "r=float(input(\"enter r:\"))\n",
    "t=int(input(\"enter t:\"))\n",
    "ans=si(p,r,t)\n",
    "print(f\"simple instrest is :{ans}\")"
   ]
  },
  {
   "cell_type": "code",
   "execution_count": null,
   "metadata": {},
   "outputs": [],
   "source": []
  }
 ],
 "metadata": {
  "kernelspec": {
   "display_name": "Python 3",
   "language": "python",
   "name": "python3"
  },
  "language_info": {
   "codemirror_mode": {
    "name": "ipython",
    "version": 3
   },
   "file_extension": ".py",
   "mimetype": "text/x-python",
   "name": "python",
   "nbconvert_exporter": "python",
   "pygments_lexer": "ipython3",
   "version": "3.10.9"
  },
  "orig_nbformat": 4,
  "vscode": {
   "interpreter": {
    "hash": "ce7b65b2ffe474abddedfae3b21eedd4a27046cb83e502735c2561f782849825"
   }
  }
 },
 "nbformat": 4,
 "nbformat_minor": 2
}
